{
  "cells": [
    {
      "cell_type": "markdown",
      "metadata": {
        "id": "view-in-github",
        "colab_type": "text"
      },
      "source": [
        "<a href=\"https://colab.research.google.com/github/Yoshida-2002/thesis/blob/main/CEG_omo_on_colab.ipynb\" target=\"_parent\"><img src=\"https://colab.research.google.com/assets/colab-badge.svg\" alt=\"Open In Colab\"/></a>"
      ]
    },
    {
      "cell_type": "code",
      "execution_count": null,
      "metadata": {
        "id": "Lefh-Mu8KRcM"
      },
      "outputs": [],
      "source": [
        "from google.colab import drive\n",
        "drive.mount('/content/drive/')"
      ]
    },
    {
      "cell_type": "code",
      "execution_count": null,
      "metadata": {
        "id": "aSs33HuiK1M6"
      },
      "outputs": [],
      "source": [
        "%cd /content/drive/MyDrive/B4yoshida/NILE with pytorch lightning\n",
        "%ls\n",
        "%pwd"
      ]
    },
    {
      "cell_type": "code",
      "execution_count": null,
      "metadata": {
        "id": "jRrJ4uFkLMCl"
      },
      "outputs": [],
      "source": [
        "!pip install transformers\n",
        "!pip install pytorch-lightning"
      ]
    },
    {
      "cell_type": "markdown",
      "metadata": {
        "id": "O-H8IgiRLeom"
      },
      "source": [
        "# data_loader"
      ]
    },
    {
      "cell_type": "markdown",
      "metadata": {
        "id": "I2W3EWwDNM-t"
      },
      "source": [
        "## data_reader.py"
      ]
    },
    {
      "cell_type": "code",
      "execution_count": null,
      "metadata": {
        "id": "xDRiQFePNLVS"
      },
      "outputs": [],
      "source": [
        "# -*- coding: utf-8 -*-\n",
        "# ========================================================\n",
        "\"\"\"data_reader module is written for read files\"\"\"\n",
        "# ========================================================\n",
        "\n",
        "\n",
        "# ========================================================\n",
        "# Imports\n",
        "# ========================================================\n",
        "\n",
        "import pandas as pd\n",
        "import numpy as np\n",
        "\n",
        "\n",
        "def read_csv(path: str) -> pd.DataFrame:\n",
        "    \"\"\"\n",
        "\n",
        "    :param path:\n",
        "    :return:\n",
        "    \"\"\"\n",
        "    return pd.read_csv(path)\n",
        "\n",
        "def read_tsv(path: str) -> pd.DataFrame:\n",
        "    \"\"\"\n",
        "\n",
        "    :param path:\n",
        "    :return:\n",
        "    \"\"\"\n",
        "    return pd.read_csv(path, sep=\"\\t\", header=None)\n",
        "\n",
        "\n",
        "def read_npy(path: str) -> np.ndarray:\n",
        "    \"\"\"\n",
        "    load a list of numpy elements into memory\n",
        "    :param path:\n",
        "    :return:\n",
        "    \"\"\"\n",
        "    return np.load(path, allow_pickle=True)\n",
        "\n",
        "\n",
        "def read_excel(path:str) -> pd.DataFrame:\n",
        "    \"\"\"\n",
        "    :param path: where to load data from\n",
        "    :return: pd.DataFrame\n",
        "    \"\"\"\n",
        "    return pd.read_excel(path, engine=\"openpyxl\")\n",
        "\n"
      ]
    },
    {
      "cell_type": "code",
      "execution_count": null,
      "metadata": {
        "id": "-psOHcsMHQII"
      },
      "outputs": [],
      "source": [
        "train_path = '/content/drive/MyDrive/B4yoshida/NILE with pytorch lightning/data/row/tsv/train2.tsv'\n",
        "test_path = '/content/drive/MyDrive/B4yoshida/NILE with pytorch lightning/data/row/tsv/test2.tsv'\n",
        "val_path = '/content/drive/MyDrive/B4yoshida/NILE with pytorch lightning/data/row/tsv/val2.tsv'"
      ]
    },
    {
      "cell_type": "code",
      "execution_count": null,
      "metadata": {
        "id": "eEppYWC7IKUp"
      },
      "outputs": [],
      "source": [
        "train_data = read_tsv(train_path)\n",
        "test_data = read_tsv(test_path)\n",
        "val_data = read_tsv(val_path)\n",
        "\n",
        "print(len(train_data))\n",
        "print(len(test_data))\n",
        "print(len(val_data))"
      ]
    },
    {
      "cell_type": "code",
      "execution_count": null,
      "metadata": {
        "id": "dRngEYIKd6Nj"
      },
      "outputs": [],
      "source": [
        "train_data"
      ]
    },
    {
      "cell_type": "code",
      "execution_count": null,
      "metadata": {
        "id": "sreX9bUiSeao"
      },
      "outputs": [],
      "source": [
        "print(train_data.isnull().values.sum())\n",
        "print(test_data.isnull().values.sum())\n",
        "print(val_data.isnull().values.sum())"
      ]
    },
    {
      "cell_type": "code",
      "execution_count": null,
      "metadata": {
        "id": "mQ6wi8o8TX1t"
      },
      "outputs": [],
      "source": [
        "train_data.info()\n",
        "test_data.info()\n",
        "val_data.info()"
      ]
    },
    {
      "cell_type": "markdown",
      "metadata": {
        "id": "2sdEJztwNSgt"
      },
      "source": [
        "## data_writer.py"
      ]
    },
    {
      "cell_type": "code",
      "execution_count": null,
      "metadata": {
        "id": "od80SyiCNVaE"
      },
      "outputs": [],
      "source": [
        "# -*- coding: utf-8 -*-\n",
        "# ========================================================\n",
        "\"\"\"data_writer module is written for write data in files\"\"\"\n",
        "# ========================================================\n",
        "\n",
        "\n",
        "# ========================================================\n",
        "# Imports\n",
        "# ========================================================\n",
        "import pandas as pd\n",
        "import numpy as np\n",
        "\n",
        "\n",
        "def write_npy(path: str, data: list) -> None:\n",
        "    \"\"\"\n",
        "    save a list of numpy elements into disk\n",
        "    :param path:\n",
        "    :param data:\n",
        "    :return:\n",
        "    \"\"\"\n",
        "    return np.save(path, data, allow_pickle=True)\n",
        "\n",
        "def write_dataframe_in_tsv(data: pd.DataFrame, path: str) -> None:\n",
        "\n",
        "  \"\"\"\n",
        "  save pd.Dataframe in tsv file\n",
        "  :param path:\n",
        "  :param data:\n",
        "\n",
        "  \"\"\"\n",
        "\n",
        "  data.to_csv(path, sep='\\t', index=False, header=False)\n",
        "\n"
      ]
    },
    {
      "cell_type": "markdown",
      "metadata": {
        "id": "lROVJGpnfD8U"
      },
      "source": [
        "## data_missing_value_processor\n",
        "- 欠損値の処理を行う\n",
        "- やること\n",
        "  1. 全ての値がNaNの列を削除する\n",
        "  2. NaNを0で補完する"
      ]
    },
    {
      "cell_type": "code",
      "execution_count": null,
      "metadata": {
        "id": "mFLX1BVOfi1v"
      },
      "outputs": [],
      "source": [
        "def data_missing_value_processor(data: pd.DataFrame, path: str) -> pd.DataFrame:\n",
        "\n",
        "  print('input data size : ' + str(len(data)))\n",
        "\n",
        "  data_without_invalid_row = data.dropna(how=\"all\")\n",
        "  print(str(len(data) - len(data_without_invalid_row)) + \" data was dropped because all of the values were NaN. \")\n",
        "\n",
        "  processed_data = data_without_invalid_row.fillna(0)\n",
        "  print(\"NaN in dataframe was filled with 0. \")\n",
        "  print(\"processed input data size : \" + str(len(processed_data)))\n",
        "  print(\"removed data size : \" + str(len(data) - len(processed_data)) )\n",
        "  print('\\n')\n",
        "\n",
        "  write_dataframe_in_tsv(processed_data, path)\n",
        "\n",
        "  return processed_data\n",
        "\n",
        "\n"
      ]
    },
    {
      "cell_type": "code",
      "execution_count": null,
      "metadata": {
        "id": "j9pYVvNekoNz"
      },
      "outputs": [],
      "source": [
        "\n",
        "processed_train_data = data_missing_value_processor(\n",
        "    train_data,\n",
        "    '/content/drive/MyDrive/B4yoshida/NILE with pytorch lightning/data/processed/missing_value_processed/pocessed_train2.tsv'\n",
        ")\n",
        "\n",
        "processed_test_data = data_missing_value_processor(\n",
        "    test_data,\n",
        "    '/content/drive/MyDrive/B4yoshida/NILE with pytorch lightning/data/processed/missing_value_processed/pocessed_test2.tsv'\n",
        ")\n",
        "\n",
        "processed_val_data = data_missing_value_processor(\n",
        "    val_data,\n",
        "    '/content/drive/MyDrive/B4yoshida/NILE with pytorch lightning/data/processed/missing_value_processed/pocessed_val2.tsv'\n",
        ")"
      ]
    },
    {
      "cell_type": "code",
      "execution_count": null,
      "metadata": {
        "id": "vme3aNPnnux_"
      },
      "outputs": [],
      "source": [
        "# processed_train_data"
      ]
    },
    {
      "cell_type": "code",
      "execution_count": null,
      "metadata": {
        "id": "0YO4cc5AtWcY"
      },
      "outputs": [],
      "source": [
        "# processed_train_data[4].replace(0, 'None', inplace=True)\n",
        "# processed_train_data[5].replace(0, 'None', inplace=True)\n",
        "# processed_train_data[6].replace(0, 'None', inplace=True)\n",
        "# processed_train_data[7].replace(0, 'None', inplace=True)\n",
        "# processed_train_data[8].replace(0, 'None', inplace=True)\n",
        "# processed_train_data[14].replace(0, 'None', inplace=True)\n",
        "# processed_train_data[15].replace(0, 'None', inplace=True)"
      ]
    },
    {
      "cell_type": "code",
      "execution_count": null,
      "metadata": {
        "id": "IcIsdo90zF4g"
      },
      "outputs": [],
      "source": [
        "# processed_train_data.head()"
      ]
    },
    {
      "cell_type": "code",
      "execution_count": null,
      "metadata": {
        "id": "nI4KFUBI05Ry"
      },
      "outputs": [],
      "source": [
        "# print( (processed_train_data == 0).sum())"
      ]
    },
    {
      "cell_type": "code",
      "execution_count": null,
      "metadata": {
        "id": "TLslfrsPn_Lv"
      },
      "outputs": [],
      "source": [
        "# processed_train_data = processed_train_data.replace(\n",
        "#     {'ture'       :torch.tensor([1,0]),\n",
        "#      'mostly-true':torch.tensor([1,0]),\n",
        "#      'half-true'  :torch.tensor([1,0]),\n",
        "#      'barely-true':torch.tensor([0,1]),\n",
        "#      'false'      :torch.tensor([0,1]),\n",
        "#      'pants-fire' :torch.tensor([0,1])})"
      ]
    },
    {
      "cell_type": "code",
      "execution_count": null,
      "metadata": {
        "id": "ZYZxTjjg6FqH"
      },
      "outputs": [],
      "source": [
        "# print(processed_train_data[4]+ ' ' + processed_train_data[5] + ' ' + processed_train_data[6] + ' ' + processed_train_data[7] + ' ' + processed_train_data[8] + ' ' + processed_train_data[14])"
      ]
    },
    {
      "cell_type": "markdown",
      "metadata": {
        "id": "phuOrNG7eh6i"
      },
      "source": [
        "##data_pre_processor_for_LIAR_PLUS_Dataset\n",
        "- LIAR_PLUS_Datasetクラスの入力に用いるdataframeを作成する\n",
        "- 作成したdataframeを保存する\n",
        "- statement, metadata, justification, credit_scoreの四つの列からなるdataframeを出力する\n",
        "- やること\n",
        "  1. 値として0(元々は欠損値)を持つ場合、\"None\"で補完する\n",
        "  2. 列を結合してstaetment, metadata, justification, credit_scoreを作成する\n",
        "  3. credit_scoreのnanを0.5で補完する\n",
        "  4. 作成したdataframeを保存する\n"
      ]
    },
    {
      "cell_type": "code",
      "execution_count": null,
      "metadata": {
        "id": "Y5D6XvWcefqX"
      },
      "outputs": [],
      "source": [
        "def data_pre_processor_for_LIAR_PLUS_Dataset(data: pd.DataFrame, path: str) -> pd.DataFrame:\n",
        "\n",
        "  # 1. 値として0(元々は欠損値)を持つ場合、\"None\"で補完する\n",
        "\n",
        "  data[4].replace(0, 'None', inplace=True)\n",
        "  data[5].replace(0, 'None', inplace=True)\n",
        "  data[6].replace(0, 'None', inplace=True)\n",
        "  data[7].replace(0, 'None', inplace=True)\n",
        "  data[8].replace(0, 'None', inplace=True)\n",
        "  data[14].replace(0, 'None', inplace=True)\n",
        "  data[15].replace(0, 'None', inplace=True)\n",
        "\n",
        "  # 2. 列を結合してstaetment, metadata, justificationを作成する\n",
        "\n",
        "  data_for_LIAR_PLUS_Dataset = pd.DataFrame(\n",
        "      data = {\n",
        "      'id' : data[0],\n",
        "      'label' : data[2],\n",
        "      'statement' : data[3],\n",
        "      'metadata' : data[4]+ ' ' + data[5] + ' ' + data[6] + ' ' + data[7] + ' ' + data[8] + ' ' + data[14],\n",
        "      'justification' : data[15],\n",
        "      'credit_score' : (data[12]*0.2 + data[11]*0.5 + data[9]*0.75 + data[10]*0.9 + data[13]*1)/(data[12] + data[11] + data[9] + data[10] + data[13]),\n",
        "      'unique_id' : data[1]\n",
        "      })\n",
        "\n",
        "  data_for_LIAR_PLUS_Dataset['credit_score'] = data_for_LIAR_PLUS_Dataset['credit_score'].fillna(0.5)\n",
        "\n",
        "  write_dataframe_in_tsv(data_for_LIAR_PLUS_Dataset, path)\n",
        "\n",
        "  print(\"dataframe was saved in\" + path + \"\\n\")\n",
        "\n",
        "  data_for_LIAR_PLUS_Dataset.info()\n",
        "\n",
        "\n",
        "  return data_for_LIAR_PLUS_Dataset"
      ]
    },
    {
      "cell_type": "code",
      "execution_count": null,
      "metadata": {
        "id": "gDl7QmMj3J87"
      },
      "outputs": [],
      "source": [
        "train_data_for_LIAR_PLUS_Dataset = data_pre_processor_for_LIAR_PLUS_Dataset(\n",
        "    processed_train_data,\n",
        "    '/content/drive/MyDrive/B4yoshida/NILE with pytorch lightning/data/processed/input_for_lightning_model/main/input_train2.tsv'\n",
        "    )\n",
        "test_data_for_LIAR_PLUS_Dataset = data_pre_processor_for_LIAR_PLUS_Dataset(\n",
        "    processed_test_data,\n",
        "    '/content/drive/MyDrive/B4yoshida/NILE with pytorch lightning/data/processed/input_for_lightning_model/main/input_test2.tsv'\n",
        "    )\n",
        "val_data_for_LIAR_PLUS_Dataset = data_pre_processor_for_LIAR_PLUS_Dataset(\n",
        "    processed_val_data,\n",
        "    '/content/drive/MyDrive/B4yoshida/NILE with pytorch lightning/data/processed/input_for_lightning_model/main/input_val2.tsv'\n",
        "    )"
      ]
    },
    {
      "cell_type": "code",
      "execution_count": null,
      "metadata": {
        "id": "jNtJmTgHNoWD"
      },
      "outputs": [],
      "source": [
        "write_dataframe_in_tsv(\n",
        "    train_data_for_LIAR_PLUS_Dataset[:120],\n",
        "    '/content/drive/MyDrive/B4yoshida/NILE with pytorch lightning/data/processed/input_for_lightning_model/toy/toy_input_train2.tsv')\n",
        "write_dataframe_in_tsv(\n",
        "    test_data_for_LIAR_PLUS_Dataset[:40],\n",
        "    '/content/drive/MyDrive/B4yoshida/NILE with pytorch lightning/data/processed/input_for_lightning_model/toy/toy_input_test2.tsv')\n",
        "write_dataframe_in_tsv(\n",
        "    val_data_for_LIAR_PLUS_Dataset[:40],\n",
        "    '/content/drive/MyDrive/B4yoshida/NILE with pytorch lightning/data/processed/input_for_lightning_model/toy/toy_input_val2.tsv')"
      ]
    },
    {
      "cell_type": "code",
      "execution_count": null,
      "metadata": {
        "id": "u1h_x9OFzMTT"
      },
      "outputs": [],
      "source": [
        "base_train_data = train_data_for_LIAR_PLUS_Dataset\n",
        "base_train_data"
      ]
    },
    {
      "cell_type": "markdown",
      "metadata": {
        "id": "AbE1iUnbvV1w"
      },
      "source": [
        "# prompt_generator\n",
        "・プロンプトの作成を一任\n"
      ]
    },
    {
      "cell_type": "code",
      "execution_count": null,
      "metadata": {
        "id": "yghLEX3Uvc53"
      },
      "outputs": [],
      "source": [
        "def prompt_generator(data: pd.DataFrame, path :str) -> pd.DataFrame :\n",
        "  \"\"\"\n",
        "  this function is for generating and saving prompts\n",
        "\n",
        "  param  : stage(\"fine-tuning\" of \"completion\")\n",
        "  param  : data(row data for prompt generation)\n",
        "  param  : path(path to save generated promps dataframe)\n",
        "  return : prompts(generated prompts)\n",
        "  \"\"\"\n",
        "  generated_prompts = \"Statement: \" + data[2] + \" Metadata: \" + data[3]\n",
        "\n",
        "  prompts_df = pd.DataFrame(\n",
        "      data = {\n",
        "      'id' : data[0],\n",
        "      'label' : data[1],\n",
        "      'concat' : generated_prompts,\n",
        "      'justification': data[4],\n",
        "      'credit_score' : data[5],\n",
        "      'unique_id' : data[6]\n",
        "      })\n",
        "\n",
        "  write_dataframe_in_tsv(prompts_df, path)\n",
        "\n",
        "  return prompts_df\n"
      ]
    },
    {
      "cell_type": "code",
      "execution_count": null,
      "metadata": {
        "id": "nlnS8xxD3yZv"
      },
      "outputs": [],
      "source": [
        "train_prompt_path = \"/content/drive/MyDrive/B4yoshida/NILE with pytorch lightning/data/prompts/main/train_prompts.tsv\"\n",
        "test_prompt_path = \"/content/drive/MyDrive/B4yoshida/NILE with pytorch lightning/data/prompts/main/test_prompts.tsv\"\n",
        "val_prompt_path = \"/content/drive/MyDrive/B4yoshida/NILE with pytorch lightning/data/prompts/main/val_prompts.tsv\"\n",
        "\n",
        "train_prompts = read_tsv(\"/content/drive/MyDrive/B4yoshida/NILE with pytorch lightning/data/processed/input_for_lightning_model/main/input_train2.tsv\")\n",
        "test_prompts = read_tsv(\"/content/drive/MyDrive/B4yoshida/NILE with pytorch lightning/data/processed/input_for_lightning_model/main/input_test2.tsv\")\n",
        "val_prompts = read_tsv(\"/content/drive/MyDrive/B4yoshida/NILE with pytorch lightning/data/processed/input_for_lightning_model/main/input_val2.tsv\")\n",
        "\n",
        "train_prompts = prompt_generator(train_prompts, train_prompt_path)\n",
        "test_prompts = prompt_generator(test_prompts, test_prompt_path)\n",
        "val_prompts = prompt_generator(val_prompts, val_prompt_path)\n",
        "\n",
        "print(len(train_prompts))\n",
        "train_prompts"
      ]
    },
    {
      "cell_type": "code",
      "execution_count": null,
      "metadata": {
        "id": "pQTF6thEEeYI"
      },
      "outputs": [],
      "source": [
        "x = read_tsv(train_prompt_path)\n",
        "x.info()"
      ]
    },
    {
      "cell_type": "markdown",
      "metadata": {
        "id": "iMUYg-qvy_Yw"
      },
      "source": [
        "# generated_prompts_separator\n",
        "- ラベルごとに分類する"
      ]
    },
    {
      "cell_type": "code",
      "execution_count": null,
      "metadata": {
        "id": "Rz-tzHX9B1yv"
      },
      "outputs": [],
      "source": [
        "def generated_prompts_separator(path: dict, data: pd.DataFrame) -> dict:\n",
        "\n",
        "  true_set = pd.DataFrame()\n",
        "  false_set = pd.DataFrame()\n",
        "  total_len = len(data)\n",
        "\n",
        "  for i in range(len(data)):\n",
        "\n",
        "    data_row = data.iloc[i]\n",
        "   # print(data_row)\n",
        "\n",
        "    if data_row[1] == \"true\":\n",
        "        true_set = true_set.append(data_row, ignore_index=True)\n",
        "    elif data_row[1] == \"half-true\":\n",
        "        true_set = true_set.append(data_row, ignore_index=True)\n",
        "    elif data_row[1] == \"mostly-true\":\n",
        "        true_set = true_set.append(data_row, ignore_index=True)\n",
        "    elif data_row[1] == \"false\":\n",
        "        false_set = false_set.append(data_row, ignore_index=True)\n",
        "    elif data_row[1] == \"barely-true\":\n",
        "        false_set = false_set.append(data_row, ignore_index=True)\n",
        "    elif data_row[1] == \"pants-fire\":\n",
        "        false_set = false_set.append(data_row, ignore_index=True)\n",
        "    else:\n",
        "        print(f\"Invalid label was found! {data_row[1]}\")\n",
        "\n",
        "  print(\"===================================================\\n\")\n",
        "  print(f\"total len : {total_len}\")\n",
        "  print(f\"true_set : {len(true_set)}\")\n",
        "  print(f\"false_set : {len(false_set)}\")\n",
        "  print(\"===================================================\\n\")\n",
        "\n",
        "  write_dataframe_in_tsv(true_set, path[\"true_set\"])\n",
        "  write_dataframe_in_tsv(false_set, path[\"false_set\"])\n",
        "\n",
        "\n",
        "  return dict(\n",
        "      true_set=true_set,\n",
        "      false_set=true_set\n",
        "  )\n"
      ]
    },
    {
      "cell_type": "code",
      "execution_count": null,
      "metadata": {
        "id": "RGPWmYuKW7AT"
      },
      "outputs": [],
      "source": [
        "fine_main_train_path_dict = {\n",
        "    \"true_set\" : \"/content/drive/MyDrive/B4yoshida/NILE with pytorch lightning/data/prompts_set/main/train/true_sets.tsv\",\n",
        "    \"false_set\" : \"/content/drive/MyDrive/B4yoshida/NILE with pytorch lightning/data/prompts_set/main/train/false_sets.tsv\"\n",
        "}\n",
        "\n",
        "fine_main_test_path_dict = {\n",
        "    \"true_set\" : \"/content/drive/MyDrive/B4yoshida/NILE with pytorch lightning/data/prompts_set/main/test/true_sets.tsv\",\n",
        "    \"false_set\" : \"/content/drive/MyDrive/B4yoshida/NILE with pytorch lightning/data/prompts_set/main/test/false_sets.tsv\"\n",
        "}\n",
        "\n",
        "fine_main_val_path_dict = {\n",
        "    \"true_set\" : \"/content/drive/MyDrive/B4yoshida/NILE with pytorch lightning/data/prompts_set/main/val/true_sets.tsv\",\n",
        "    \"false_set\" : \"/content/drive/MyDrive/B4yoshida/NILE with pytorch lightning/data/prompts_set/main/val/false_sets.tsv\"\n",
        "}\n",
        "\n",
        "fine_toy_train_path_dict = {\n",
        "    \"true_set\" : \"/content/drive/MyDrive/B4yoshida/NILE with pytorch lightning/data/prompts_set/toy/train/true_sets.tsv\",\n",
        "    \"false_set\" : \"/content/drive/MyDrive/B4yoshida/NILE with pytorch lightning/data/prompts_set/toy/train/false_sets.tsv\"\n",
        "}\n",
        "\n",
        "fine_toy_test_path_dict = {\n",
        "    \"true_set\" : \"/content/drive/MyDrive/B4yoshida/NILE with pytorch lightning/data/prompts_set/toy/test/true_sets.tsv\",\n",
        "    \"false_set\" : \"/content/drive/MyDrive/B4yoshida/NILE with pytorch lightning/data/prompts_set/toy/test/false_sets.tsv\"\n",
        "}\n",
        "\n",
        "fine_toy_val_path_dict = {\n",
        "    \"true_set\" : \"/content/drive/MyDrive/B4yoshida/NILE with pytorch lightning/data/prompts_set/toy/val/true_sets.tsv\",\n",
        "    \"false_set\" : \"/content/drive/MyDrive/B4yoshida/NILE with pytorch lightning/data/prompts_set/toy/val/false_sets.tsv\"\n",
        "}"
      ]
    },
    {
      "cell_type": "code",
      "execution_count": null,
      "metadata": {
        "id": "OGnq4oOKMIN-"
      },
      "outputs": [],
      "source": [
        "# main_train_df = read_tsv(train_prompt_path)\n",
        "# main_test_df = read_tsv(test_prompt_path)\n",
        "# main_val_df = read_tsv(val_prompt_path)\n",
        "\n",
        "# toy_train_df = main_train_df[:600]\n",
        "# toy_test_df = main_test_df[:200]\n",
        "# toy_val_df = main_val_df[:200]\n",
        "\n",
        "\n",
        "# main_train_set = generated_prompts_separator(fine_main_train_path_dict, main_train_df)\n",
        "# main_test_set = generated_prompts_separator(fine_main_test_path_dict, main_test_df)\n",
        "# main_val_set = generated_prompts_separator(fine_main_val_path_dict, main_val_df)\n",
        "\n",
        "# toy_train_set = generated_prompts_separator(fine_toy_train_path_dict, toy_train_df)\n",
        "# toy_test_set = generated_prompts_separator(fine_toy_test_path_dict, toy_test_df)\n",
        "# toy_val_set = generated_prompts_separator(fine_toy_val_path_dict, toy_val_df)\n"
      ]
    },
    {
      "cell_type": "code",
      "execution_count": null,
      "metadata": {
        "id": "-pyPfFDRkUFP"
      },
      "outputs": [],
      "source": [
        "y = read_tsv(\"/content/drive/MyDrive/B4yoshida/NILE with pytorch lightning/data/prompts_set/main/train/false_sets.tsv\")\n",
        "y.info()"
      ]
    },
    {
      "cell_type": "markdown",
      "source": [
        "# Google Driveへ接続しディレクトリを移動"
      ],
      "metadata": {
        "id": "HZ_ZwRAby_hP"
      }
    },
    {
      "cell_type": "code",
      "source": [
        "from google.colab import drive\n",
        "drive.mount('/content/drive/')"
      ],
      "metadata": {
        "colab": {
          "base_uri": "https://localhost:8080/"
        },
        "id": "L31wefW7zMo9",
        "outputId": "c20375e7-92d3-4968-8f3e-a4a065de64f6"
      },
      "execution_count": null,
      "outputs": [
        {
          "output_type": "stream",
          "name": "stdout",
          "text": [
            "Mounted at /content/drive/\n"
          ]
        }
      ]
    },
    {
      "cell_type": "code",
      "source": [
        "%cd /content/drive/MyDrive/B4yoshida/NILE with pytorch lightning\n",
        "%ls\n",
        "%pwd"
      ],
      "metadata": {
        "colab": {
          "base_uri": "https://localhost:8080/",
          "height": 90
        },
        "id": "vpFyWy0BzU0v",
        "outputId": "508ca4a3-7e87-43b4-b745-86e3c278bf56"
      },
      "execution_count": null,
      "outputs": [
        {
          "output_type": "stream",
          "name": "stdout",
          "text": [
            "/content/drive/MyDrive/B4yoshida/NILE with pytorch lightning\n",
            "' CEG omo on colab'  'data for CEG'     models             \u001b[0m\u001b[01;34mmodel_transformers\u001b[0m/\n",
            " \u001b[01;34mdata\u001b[0m/                \u001b[01;34mlightning_logs\u001b[0m/  'models のコピー'   \u001b[01;34msrc\u001b[0m/\n"
          ]
        },
        {
          "output_type": "execute_result",
          "data": {
            "text/plain": [
              "'/content/drive/MyDrive/B4yoshida/NILE with pytorch lightning'"
            ],
            "application/vnd.google.colaboratory.intrinsic+json": {
              "type": "string"
            }
          },
          "metadata": {},
          "execution_count": 2
        }
      ]
    },
    {
      "cell_type": "markdown",
      "source": [
        "# TransformersとPytorch Lightningをインストール"
      ],
      "metadata": {
        "id": "fB5rz2m-y_uq"
      }
    },
    {
      "cell_type": "code",
      "source": [
        "!pip install transformers\n",
        "!pip install pytorch-lightning"
      ],
      "metadata": {
        "id": "izeLGyCTznqQ"
      },
      "execution_count": null,
      "outputs": []
    },
    {
      "cell_type": "code",
      "source": [
        "import transformers\n",
        "import pytorch_lightning as pl\n",
        "import pandas as pd\n",
        "print(transformers.__version__)\n",
        "print(pl.__version__)"
      ],
      "metadata": {
        "id": "4X4Le2kXY8K3"
      },
      "execution_count": null,
      "outputs": []
    },
    {
      "cell_type": "markdown",
      "source": [
        "# Pathの定義"
      ],
      "metadata": {
        "id": "alRr9RoHto8s"
      }
    },
    {
      "cell_type": "code",
      "source": [
        "fine_main_train_path_dict = {\n",
        "    \"true_set\" : \"/content/drive/MyDrive/B4yoshida/NILE with pytorch lightning/data/prompts_set/main/train/true_sets.tsv\",\n",
        "    \"false_set\" : \"/content/drive/MyDrive/B4yoshida/NILE with pytorch lightning/data/prompts_set/main/train/false_sets.tsv\"\n",
        "}\n",
        "\n",
        "fine_main_test_path_dict = {\n",
        "    \"true_set\" : \"/content/drive/MyDrive/B4yoshida/NILE with pytorch lightning/data/prompts_set/main/test/true_sets.tsv\",\n",
        "    \"false_set\" : \"/content/drive/MyDrive/B4yoshida/NILE with pytorch lightning/data/prompts_set/main/test/false_sets.tsv\"\n",
        "}\n",
        "\n",
        "fine_main_val_path_dict = {\n",
        "    \"true_set\" : \"/content/drive/MyDrive/B4yoshida/NILE with pytorch lightning/data/prompts_set/main/val/true_sets.tsv\",\n",
        "    \"false_set\" : \"/content/drive/MyDrive/B4yoshida/NILE with pytorch lightning/data/prompts_set/main/val/false_sets.tsv\"\n",
        "}\n",
        "\n",
        "fine_toy_train_path_dict = {\n",
        "    \"true_set\" : \"/content/drive/MyDrive/B4yoshida/NILE with pytorch lightning/data/prompts_set/toy/train/true_sets.tsv\",\n",
        "    \"false_set\" : \"/content/drive/MyDrive/B4yoshida/NILE with pytorch lightning/data/prompts_set/toy/train/false_sets.tsv\"\n",
        "}\n",
        "\n",
        "fine_toy_test_path_dict = {\n",
        "    \"true_set\" : \"/content/drive/MyDrive/B4yoshida/NILE with pytorch lightning/data/prompts_set/toy/test/true_sets.tsv\",\n",
        "    \"false_set\" : \"/content/drive/MyDrive/B4yoshida/NILE with pytorch lightning/data/prompts_set/toy/test/false_sets.tsv\"\n",
        "}\n",
        "\n",
        "fine_toy_val_path_dict = {\n",
        "    \"true_set\" : \"/content/drive/MyDrive/B4yoshida/NILE with pytorch lightning/data/prompts_set/toy/val/true_sets.tsv\",\n",
        "    \"false_set\" : \"/content/drive/MyDrive/B4yoshida/NILE with pytorch lightning/data/prompts_set/toy/val/false_sets.tsv\"\n",
        "}\n",
        "\n",
        "\n",
        "train_data_path = \"/content/drive/MyDrive/B4yoshida/NILE with pytorch lightning/data/prompts_set/fine-tuning/toy/train/true_sets.tsv\"\n",
        "test_data_path = \"/content/drive/MyDrive/B4yoshida/NILE with pytorch lightning/data/prompts_set/fine-tuning/toy/test/true_sets.tsv\"\n",
        "val_data_path = \"/content/drive/MyDrive/B4yoshida/NILE with pytorch lightning/data/prompts_set/fine-tuning/toy/val/true_sets.tsv\"\n",
        "\n",
        "def read_tsv(path: str) -> pd.DataFrame:\n",
        "    \"\"\"\n",
        "\n",
        "    :param path:\n",
        "    :return:\n",
        "    \"\"\"\n",
        "    return pd.read_csv(path, sep=\"\\t\", header=None)\n"
      ],
      "metadata": {
        "id": "bfMoTy80qbIL"
      },
      "execution_count": null,
      "outputs": []
    },
    {
      "cell_type": "markdown",
      "source": [
        "# class LIAR_PLUS_Dataset_For_CEG(Dataset):を定義する"
      ],
      "metadata": {
        "id": "ciFDDUpS572n"
      }
    },
    {
      "cell_type": "code",
      "source": [
        "# -*- coding: utf-8 -*-\n",
        "# pylint: disable-msg=import-error\n",
        "# pylint: disable-msg=no-member\n",
        "# ========================================================\n",
        "\"\"\"dataset module is written for create data module\"\"\"\n",
        "# ========================================================\n",
        "\n",
        "\n",
        "# ========================================================\n",
        "# Imports\n",
        "# ========================================================\n",
        "import pandas as pd\n",
        "import pytorch_lightning as pl\n",
        "import torch\n",
        "import time\n",
        "\n",
        "from torch.utils.data import Dataset, DataLoader\n",
        "from transformers import AutoTokenizer\n",
        "\n",
        "from typing import Optional\n",
        "\n",
        "class LIAR_PLUS_Dataset_For_CEG(Dataset):\n",
        "    \"\"\"\n",
        "    this class is for encoding input dataframe for GPT2\n",
        "\n",
        "    Input dataframe needs to be consist of 5 columns, \"id\", \"label\", \"prompt\", \"justification\" and \"credit_score\"\n",
        "\n",
        "    later we wrap a lightning data module around it.\n",
        "    \"\"\"\n",
        "\n",
        "    def __init__(self, data: pd.DataFrame, config_dict: dict):\n",
        "      # max_token_length should be flexible depending on input sequence so it needs to be changed later.\n",
        "        self.data = data\n",
        "        self.config_dict = config_dict\n",
        "        self.prepare_tokenizer = Prepare_Tokenizer(self.config_dict)\n",
        "        self.tokenizer = self.prepare_tokenizer.get_tokenizer()\n",
        "        self.prepare_tokenizer.get_tokenizer_info()\n",
        "        self.max_token_len = config_dict['MAX_LENGTH']\n",
        "        # print(\"Before\")\n",
        "        # print(self.tokenizer.all_special_tokens)\n",
        "        # print(self.tokenizer.all_special_ids)\n",
        "        # special_tokens_dict = {\n",
        "        # 'additional_special_tokens': ['[EXP]'],\n",
        "        # \"eos_token\" : \"<|endoftext|>\",\n",
        "        # \"pad_token\" : \"<|endoftext|>\"\n",
        "        # }\n",
        "        # self.tokenizer.add_special_tokens(special_tokens_dict)\n",
        "        # self.exp_id = tokenizer.convert_tokens_to_ids('[EXP]')\n",
        "        # self.eos_id = tokenizer.convert_tokens_to_ids('<|endoftext|>')\n",
        "        # self.pad_id = tokenizer.convert_tokens_to_ids('<|endoftext|>')\n",
        "        # print(\"After\")\n",
        "        # print(tokenizer.all_special_tokens)\n",
        "        # print(tokenizer.all_special_ids)\n",
        "        # print(f\"exp_id : {self.exp_id}\")\n",
        "        # print(f\"eos_id : {self.eos_id}\")\n",
        "        # print(f\"pad_id : {self.pad_id}\\n\")\n",
        "        # print(f\"len(tokenizer) : {len(self.tokenizer)}\")\n",
        "\n",
        "         # it could be 512\n",
        "\n",
        "    def __len__(self):\n",
        "        return len(self.data)\n",
        "\n",
        "    def __getitem__(self, index: int):\n",
        "\n",
        "        data_row = self.data.iloc[index]\n",
        "        concat_text = data_row[2] + \"[EXP]\"\n",
        "        justification_text = data_row[3]\n",
        "        full_prompt_text = concat_text + justification_text + \"[EOS]\"\n",
        "\n",
        "        concat_text_length = len(self.tokenizer.tokenize(concat_text))\n",
        "        # bartではspecial_token<s>が文頭に付くため、その分だけ入力長が1大きくなる\n",
        "        if self.config_dict[\"MODEL_NAME\"] == 'facebook/bart-base':\n",
        "            concat_text_length += concat_text_length\n",
        "\n",
        "        if concat_text_length > self.max_token_len:\n",
        "            concat_text_length = self.max_token_len\n",
        "        justification_text_length = len(self.tokenizer.tokenize(justification_text))\n",
        "        if justification_text_length > self.max_token_len:\n",
        "            justification_text_length = self.max_token_len\n",
        "        full_prompt_text_length = len(self.tokenizer.tokenize(full_prompt_text))\n",
        "        if full_prompt_text_length > self.max_token_len:\n",
        "            full_prompt_text_length = self.max_token_len\n",
        "\n",
        "        if data_row[1] == \"true\":\n",
        "            label = torch.tensor([1,0], dtype=torch.float32)\n",
        "        elif data_row[1] == \"half-true\":\n",
        "            label = torch.tensor([1,0], dtype=torch.float32)\n",
        "        elif data_row[1] == \"mostly-true\":\n",
        "            label = torch.tensor([1,0], dtype=torch.float32)\n",
        "        elif data_row[1] == \"false\":\n",
        "            label = torch.tensor([0,1], dtype=torch.float32)\n",
        "        elif data_row[1] == \"barely-true\":\n",
        "            label = torch.tensor([0,1], dtype=torch.float32)\n",
        "        elif data_row[1] == \"pants-fire\":\n",
        "            label = torch.tensor([0,1], dtype=torch.float32)\n",
        "        else:\n",
        "            print(f\"Invalid label was found! {data_row[1]}\")\n",
        "            time.sleep(30)\n",
        "\n",
        "        concat_encoding = self.tokenizer.encode_plus(\n",
        "            concat_text,\n",
        "            add_special_tokens=True,\n",
        "            max_length = self.max_token_len,\n",
        "            return_token_type_ids=False,\n",
        "            padding=\"max_length\",\n",
        "            truncation=True,\n",
        "            return_attention_mask=True,\n",
        "            return_tensors='pt',\n",
        "        )\n",
        "\n",
        "        full_prompt_encoding = self.tokenizer.encode_plus(\n",
        "            full_prompt_text,\n",
        "            add_special_tokens=True,\n",
        "            max_length = self.max_token_len,\n",
        "            return_token_type_ids=False,\n",
        "            padding=\"max_length\",\n",
        "            truncation=True,\n",
        "            return_attention_mask=True,\n",
        "            return_tensors='pt',\n",
        "        )\n",
        "\n",
        "        # labels = full_prompt_encoding[\"input_ids\"].flatten()\n",
        "        # labels[:concat_text_length] = -100 # cross_entropy_ignore_index\n",
        "\n",
        "        # print(\"=================================================================\\n\")\n",
        "        # print(f\"concat_text : {concat_text}\\n\")\n",
        "        # print(f\"concat_text_length : {concat_text_length}\\n\")\n",
        "        # print(f\"justification_text : {justification_text}\\n\")\n",
        "        # print(f\"justification_text_length : {justification_text_length}\\n\")\n",
        "        # print(f\"full_prompt_text : {full_prompt_text}\\n\")\n",
        "        # print(f\"full_prompt_text_length : {full_prompt_text_length}\\n\")\n",
        "        # print(f\"labels before padding : {labels}\\n\")\n",
        "        # print(f\"labels after padding: {labels}\\n\")\n",
        "        # print(\"=================================================================\\n\")\n",
        "\n",
        "        return dict(\n",
        "            input_ids1=concat_encoding[\"input_ids\"].flatten(),\n",
        "            attention_mask1=concat_encoding[\"attention_mask\"].flatten(),\n",
        "            input_ids2=full_prompt_encoding[\"input_ids\"].flatten(),\n",
        "            attention_mask2=full_prompt_encoding[\"attention_mask\"].flatten(),\n",
        "            concat_text_length=concat_text_length,\n",
        "            full_prompt_text_length=full_prompt_text_length,\n",
        "            # labels = labels\n",
        "        )\n"
      ],
      "metadata": {
        "id": "Zf6kfB036jme"
      },
      "execution_count": null,
      "outputs": []
    },
    {
      "cell_type": "markdown",
      "source": [
        "# class LIAR_PLUS_DataModule_For_CEG(pl.LightningDataModule)を定義する"
      ],
      "metadata": {
        "id": "cf6XZBBC58F9"
      }
    },
    {
      "cell_type": "code",
      "source": [
        "class LIAR_PLUS_DataModule_For_CEG(pl.LightningDataModule):\n",
        "\n",
        "    def __init__(self, config_dict, train_df: pd.DataFrame, test_df: pd.DataFrame, val_df: pd.DataFrame):\n",
        "        super().__init__()\n",
        "        self.config_dict = config_dict\n",
        "        self.train_df = train_df\n",
        "        self.test_df = test_df\n",
        "        self.val_df = val_df\n",
        "        self.training_batch_size = config_dict[\"TRAINING_BATCH_SIZE\"]\n",
        "        self.validation_batch_size = config_dict[\"VALIDATION_BATCH_SIZE\"]\n",
        "        self.test_batch_size = config_dict[\"TEST_BATCH_SIZE\"]\n",
        "        self.max_token_len = self.config_dict[\"MAX_LENGTH\"]\n",
        "        self.train_dataset, self.test_dataset, self.val_dataset = None, None, None\n",
        "\n",
        "        # 以下の処理はDataset内でやってくれるのかも\n",
        "        # print(\"Before\")\n",
        "        # print(self.tokenizer.all_special_tokens)\n",
        "        # print(self.tokenizer.all_special_ids)\n",
        "        # special_tokens_dict = {'additional_special_tokens': ['[EXP]'], \"eos_token\" : \"[EOS]\"}\n",
        "        # self.tokenizer.add_special_tokens(special_tokens_dict)\n",
        "        # self.exp_id = tokenizer.convert_tokens_to_ids('[EXP]')\n",
        "        # self.eos_id = tokenizer.convert_tokens_to_ids('[EOS]')\n",
        "        # print(\"After\")\n",
        "        # print(tokenizer.all_special_tokens)\n",
        "        # print(tokenizer.all_special_ids)\n",
        "        # print(f\"exp_id : {self.exp_id}\")\n",
        "        # print(f\"eos_id : {self.eos_id}\\n\")\n",
        "\n",
        "\n",
        "    def setup(self, stage: Optional[str] = None) -> None:\n",
        "        self.train_dataset = LIAR_PLUS_Dataset_For_CEG(self.train_df, self.config_dict)\n",
        "        print(f\"train_dataset size : {len(self.train_dataset)}\\n\")\n",
        "        self.test_dataset = LIAR_PLUS_Dataset_For_CEG(self.test_df, self.config_dict)\n",
        "        print(f\"test_dataset size : {len(self.test_dataset)}\\n\")\n",
        "        self.val_dataset = LIAR_PLUS_Dataset_For_CEG(self.val_df, self.config_dict)\n",
        "        print(f\"val_dataset size : {len(self.val_dataset)}\\n\")\n",
        "\n",
        "\n",
        "    def train_dataloader(self):\n",
        "        return DataLoader(\n",
        "            self.train_dataset,\n",
        "            batch_size=self.training_batch_size,\n",
        "            shuffle=True,\n",
        "            drop_last=True,\n",
        "            num_workers=2\n",
        "        )\n",
        "\n",
        "    def val_dataloader(self):\n",
        "        return DataLoader(\n",
        "            self.val_dataset,\n",
        "            batch_size=self.validation_batch_size,\n",
        "            drop_last=True,\n",
        "            num_workers=2\n",
        "        )\n",
        "\n",
        "    def test_dataloader(self):\n",
        "        return DataLoader(\n",
        "            self.test_dataset,\n",
        "            batch_size=self.test_batch_size,\n",
        "            drop_last=True,\n",
        "            num_workers=2\n",
        "        )"
      ],
      "metadata": {
        "id": "gFsOZ6LW6zLM"
      },
      "execution_count": null,
      "outputs": []
    },
    {
      "cell_type": "markdown",
      "source": [
        "# helperを定義する"
      ],
      "metadata": {
        "id": "0FKESVDD58Nr"
      }
    },
    {
      "cell_type": "code",
      "source": [
        "# -*- coding: utf-8 -*-\n",
        "# ========================================================\n",
        "\"\"\"helper module is written for write useful function in indexer package\"\"\"\n",
        "# ========================================================\n",
        "\n",
        "\n",
        "# ========================================================\n",
        "# Imports\n",
        "# ========================================================\n",
        "from pytorch_lightning.callbacks import ModelCheckpoint\n",
        "\n",
        "\n",
        "def build_checkpoint_callback(config_dict, filename=\"QTag-{epoch:02d}-{val_loss:.2f}\",\n",
        "                              monitor=\"val_loss\"):\n",
        "    \"\"\"\n",
        "\n",
        "    :param save_top_k:\n",
        "    :param filename:\n",
        "    :param monitor:\n",
        "    :return:\n",
        "    \"\"\"\n",
        "    # saves a file like: input/QTag-epoch=02-val_loss=0.32.ckpt\n",
        "    checkpoint_callback = ModelCheckpoint(monitor=monitor,  # monitored quantity\n",
        "                                          filename=filename,\n",
        "                                          save_top_k=config_dict['SAVE_TOP_K'],  # save the top k models\n",
        "                                          dirpath=config_dict['SAVED_MODEL_PATH'],\n",
        "                                          mode=\"min\",  # mode of the monitored quantity for optimization\n",
        "                                          )\n",
        "    print(f\"checkpoint_callback : {checkpoint_callback}\")\n",
        "    return checkpoint_callback"
      ],
      "metadata": {
        "id": "zVqrSIBr7hYX"
      },
      "execution_count": null,
      "outputs": []
    },
    {
      "cell_type": "markdown",
      "source": [
        "# class CEG(pl.LightningModule)を定義する"
      ],
      "metadata": {
        "id": "_mqQ2UHy58SM"
      }
    },
    {
      "cell_type": "code",
      "source": [
        "# -*- coding: utf-8 -*-\n",
        "# pylint: disable=too-many-arguments\n",
        "# pylint: disable=import-error\n",
        "# ========================================================\n",
        "\"\"\"This module is written for write BERT classifier.\"\"\"\n",
        "# ========================================================\n",
        "\n",
        "\n",
        "# ========================================================\n",
        "# Imports\n",
        "# ========================================================\n",
        "from typing import List\n",
        "import pytorch_lightning as pl\n",
        "from torch import nn\n",
        "import torch\n",
        "import torchmetrics\n",
        "from transformers import GPT2Tokenizer, AutoModel, AutoConfig, AdamW, get_linear_schedule_with_warmup, GPT2LMHeadModel, T5ForConditionalGeneration, BartForConditionalGeneration\n",
        "\n",
        "class CEG(pl.LightningModule):\n",
        "    \"\"\"\n",
        "    creates a pytorch lightning model\n",
        "    \"\"\"\n",
        "\n",
        "    def __init__(self, config_dict,\n",
        "                 n_warmup_steps: int = None,\n",
        "                 n_training_steps: int = None,\n",
        "                 n_classes: int = None):\n",
        "        super().__init__()\n",
        "        self.config_dict = config_dict\n",
        "        self.prepare_tokenizer = Prepare_Tokenizer(self.config_dict)\n",
        "        self.tokenizer = self.prepare_tokenizer.get_tokenizer()\n",
        "        self.prepare_tokenizer.get_tokenizer_info()\n",
        "        self.prepare_model = Prepare_Model(config=self.config_dict, prepare_tokenizer=self.prepare_tokenizer)\n",
        "        self.model = self.prepare_model.get_model()\n",
        "        self.prepare_model.get_model_info()\n",
        "        # self.tokenizer = GPT2Tokenizer.from_pretrained(\"gpt2\")\n",
        "\n",
        "        # print(\"Before\")\n",
        "        # print(self.tokenizer.all_special_tokens)\n",
        "        # print(self.tokenizer.all_special_ids)\n",
        "        # special_tokens_dict = {\n",
        "        #     'additional_special_tokens': ['[EXP]'],\n",
        "        #     \"eos_token\" : \"<|endoftext|>\",\n",
        "        #     \"pad_token\" : \"<|endoftext|>\"\n",
        "        #     }\n",
        "        # self.tokenizer.add_special_tokens(special_tokens_dict)\n",
        "        # exp_id = self.tokenizer.convert_tokens_to_ids('[EXP]')\n",
        "        # eos_id = self.tokenizer.convert_tokens_to_ids('<|endoftext|>')\n",
        "        # pad_id = self.tokenizer.convert_tokens_to_ids('<|endoftext|>')\n",
        "        # print(\"After\")\n",
        "        # print(self.tokenizer.all_special_tokens)\n",
        "        # print(self.tokenizer.all_special_ids)\n",
        "        # print(f\"exp_id : {exp_id}\")\n",
        "        # print(f\"eos_id : {eos_id}\")\n",
        "        # print(f\"pad_id : {pad_id}\\n\")\n",
        "        # print(f\"len(self.tokenizer) : {len(self.tokenizer)}\")\n",
        "\n",
        "        # gpt2config = AutoConfig.from_pretrained('gpt2', bos_token_id=self.tokenizer.bos_token_id, eos_token_id=tokenizer.eos_token_id, pad_token_id=tokenizer.pad_token_id, additional_special_tokens_id = exp_id, output_hidden_states=False)\n",
        "\n",
        "        # self.model = GPT2LMHeadModel.from_pretrained(\"gpt2\", config=gpt2config)\n",
        "        # self.model.resize_token_embeddings(len(self.tokenizer))\n",
        "        # self.lm_head = self.model.lm_head\n",
        "        # new_weights = torch.cat([self.lm_head.weight[:-1, :], torch.zeros(1, self.lm_head.weight.shape[1]) -10000])\n",
        "        # self.model.lm_head.weight = torch.nn.Parameter(new_weights)\n",
        "        self.softmax = nn.Softmax(dim=1)\n",
        "        self.batch_size = config_dict['TRAINING_BATCH_SIZE']\n",
        "        self.n_training_steps = n_training_steps\n",
        "        self.n_warmup_steps = n_warmup_steps\n",
        "        self.criterion = nn.CrossEntropyLoss(ignore_index=self.config_dict['CROSS_ENTROPY_IGNORE_INDEX'])\n",
        "        self.save_hyperparameters()\n",
        "\n",
        "    def forward(self, input_ids1, attention_mask1, input_ids2, attention_mask2, concat_text_length, full_prompt_text_length):\n",
        "\n",
        "        # print(\"===============================forward=================================\\n\")\n",
        "        labels = input_ids2\n",
        "        # print(f\"labels : {labels}\")\n",
        "        # print(f\"len(labels) : {len(labels)}\")\n",
        "        print(full_prompt_text_length)\n",
        "        batch_max_length = max(full_prompt_text_length)\n",
        "        print(f\"batch_max_length : {batch_max_length}\")\n",
        "\n",
        "\n",
        "        for i in range(len(labels)):\n",
        "            labels[i][:concat_text_length[i]] = -100 # cross_entropy_ignore_index\n",
        "            labels[i][full_prompt_text_length[i]:] = -100\n",
        "        print(f\"input_ids1 before reshaping : {input_ids1.shape}\")\n",
        "        print(f\"labels before reshaping : {labels.shape}\")\n",
        "        print(f\"attention_mask1 before reshaping : {attention_mask1.shape}\")\n",
        "        labels = labels[:,:batch_max_length]\n",
        "        input_ids1 = input_ids1[:,:batch_max_length]\n",
        "        attention_mask1 = attention_mask1[:,:batch_max_length]\n",
        "        print(f\"input_ids1 after reshaping : {input_ids1.shape}\")\n",
        "        print(f\"labels after reshaping : {labels.shape}\")\n",
        "        print(f\"attention_mask1 after reshaping : {attention_mask1.shape}\")\n",
        "            # print(f\"labels after -100 padding : {labels[0]}\")\n",
        "        # print(f\"len(labels[0]) before shifting : {len(labels[0])}\\n\")\n",
        "        # print(f\"input_ids1 : {input_ids1}\\n\")\n",
        "        # print(f\"attention_mask1 : {attention_mask1}\\n\")\n",
        "        # print(f\"input_ids2 : {input_ids2}\\n\")\n",
        "        # print(f\"concat_text_length : {concat_text_length}\\n\")\n",
        "        # print(f\"full_prompt_length : {full_prompt_text_length}\\n\")\n",
        "        # print(f\"labels : {labels}\\n\")\n",
        "        # print(f\"labels before shifting : {labels}, labels.size() : {labels.size()}\\n\")\n",
        "        # labels = labels[0][1:]\n",
        "        # labels = torch.Tensor(labels)\n",
        "        # print(f\"labels after shifting : {labels}, labels.size() : {labels.size()}\\n\")\n",
        "        # additional_pad = tokenizer.tokenize(\"[PAD]\")\n",
        "        # additional_pad = torch.Tensor(tokenizer.convert_tokens_to_ids(additional_pad))\n",
        "        # additional_pad = torch.Tensor(additional_pad)\n",
        "        # labels = torch.cat((labels, additional_pad))\n",
        "        # print(f\"labels after shifting : {labels}, labels.size() : {labels.size()}\\n\")\n",
        "\n",
        "        #outputs = self.model(input_ids=input_ids1, attention_mask=attention_mask1, labels=labels)\n",
        "        outputs = self.model(input_ids=input_ids1, attention_mask=attention_mask1, labels=labels)\n",
        "        logits = outputs.logits\n",
        "        loss = 0\n",
        "\n",
        "        loss = outputs.loss\n",
        "\n",
        "        # print(f\"outputs : {outputs}\\n\")\n",
        "        # print(f\"outputs type : {type(outputs)}\")\n",
        "        # print(f\"input.shape : {outputs.shape}\")\n",
        "        # print(f\"logits : {logits}\")\n",
        "        # print(f\"logits type : {type(logits)}\")\n",
        "        # print(f\"logits shape : {logits.shape}\")\n",
        "        # print(f\"loss : {loss}\")\n",
        "        softmax_output = self.softmax(logits)\n",
        "        arg = torch.argmax(softmax_output, dim=2)\n",
        "        # print(f\"argmax(ouput) : {arg}\") # --> tensor\n",
        "        # print(f\"argmax(ouput).size() : {arg.size()}\")\n",
        "        # print(f\"argmax(output).dtype() : {arg.dtype}\")\n",
        "        # print(arg)\n",
        "        generated = self.tokenizer.decode(arg[0])\n",
        "        print(f\"generated text: {generated}\\n\")\n",
        "        print(f\"len(generated) : {len(self.tokenizer.tokenize(generated))}\\n\")\n",
        "        # print(f\"loss type : {type(loss)}\\n\")\n",
        "        # print(f\"loss shape : {loss.shape}\\n\")\n",
        "\n",
        "        return loss, outputs\n",
        "\n",
        "    def training_step(self, batch, batch_idx):\n",
        "        \"\"\"\n",
        "\n",
        "        :param batch:\n",
        "        :param batch_idx:\n",
        "        :return:\n",
        "        \"\"\"\n",
        "        # print(f\"training batch : {batch}\")\n",
        "        input_ids1 = batch[\"input_ids1\"]\n",
        "        attention_mask1 = batch[\"attention_mask1\"]\n",
        "        input_ids2 = batch[\"input_ids2\"]\n",
        "        attention_mask2 = batch[\"attention_mask2\"]\n",
        "        concat_text_length = batch[\"concat_text_length\"]\n",
        "        full_prompt_text_length = batch[\"full_prompt_text_length\"]\n",
        "        # labels = batch[\"labels\"]\n",
        "\n",
        "        loss, output = self(input_ids1, attention_mask1, input_ids2, attention_mask2, concat_text_length, full_prompt_text_length)\n",
        "\n",
        "\n",
        "        self.log(\"train_loss\", loss, prog_bar=True, logger=True)\n",
        "        print(\"===============================training=================================\\n\")\n",
        "        # print(f\"output : {outputs}\\n\")\n",
        "        # print(f\"output type : {type(outputs)}\\n\")\n",
        "        print(f\"loss : {loss}\\n\")\n",
        "        # print(f\"loss type : {type(loss)}\\n\")\n",
        "        # print(f\"loss shape : {loss.shape}\\n\")\n",
        "\n",
        "        return {\"loss\": loss, \"predictions\": output}\n",
        "\n",
        "    def validation_step(self, batch, batch_idx):\n",
        "        \"\"\"\n",
        "\n",
        "        :param batch:\n",
        "        :param batch_idx:\n",
        "        :return:\n",
        "        \"\"\"\n",
        "        # print(f\"validation batch : {batch}\")\n",
        "        input_ids1 = batch[\"input_ids1\"]\n",
        "        attention_mask1 = batch[\"attention_mask1\"]\n",
        "        input_ids2 = batch[\"input_ids2\"]\n",
        "        attention_mask2 = batch[\"attention_mask2\"]\n",
        "        concat_text_length = batch[\"concat_text_length\"]\n",
        "        full_prompt_text_length = batch[\"full_prompt_text_length\"]\n",
        "        # labels = batch[\"labels\"]\n",
        "\n",
        "        loss, output = self(input_ids1, attention_mask1, input_ids2, attention_mask2, concat_text_length, full_prompt_text_length)\n",
        "\n",
        "        self.log(\"val_loss\", loss, prog_bar=True, logger=True, on_step=False)\n",
        "\n",
        "        print(\"===============================validating=================================\\n\")\n",
        "        # print(f\"output : {outputs}\\n\")\n",
        "        # print(f\"output type : {type(outputs)}\\n\")\n",
        "        print(f\"loss : {loss}\\n\")\n",
        "        # print(f\"loss type : {type(loss)}\\n\")\n",
        "        # print(f\"loss shape : {loss.shape}\\n\")\n",
        "\n",
        "        return loss\n",
        "\n",
        "    def test_step(self, batch, batch_idx):\n",
        "        \"\"\"\n",
        "\n",
        "        :param batch:\n",
        "        :param batch_idx:\n",
        "        :return:\n",
        "        \"\"\"\n",
        "\n",
        "        print(\"test batch : {batch}\")\n",
        "        input_ids1 = batch[\"input_ids1\"]\n",
        "        attention_mask1 = batch[\"attention_mask1\"]\n",
        "        input_ids2 = batch[\"input_ids2\"]\n",
        "        attention_mask2 = batch[\"attention_mask2\"]\n",
        "        concat_text_length = batch[\"concat_text_length\"]\n",
        "        full_prompt_text_length = batch[\"full_prompt_text_length\"]\n",
        "        # labels = batch[\"labels\"]\n",
        "\n",
        "        loss, output = self(input_ids1, attention_mask1, input_ids2, attention_mask2, concat_text_length, full_prompt_text_length)\n",
        "\n",
        "        self.log(\"test_loss\", loss, prog_bar=True, logger=True)\n",
        "\n",
        "        print(\"===============================testing=================================\\n\")\n",
        "        # print(f\"output : {outputs}\\n\")\n",
        "        # print(f\"output type : {type(outputs)}\\n\")\n",
        "        print(f\"loss : {loss}\\n\")\n",
        "        # print(f\"loss type : {type(loss)}\\n\")\n",
        "        # print(f\"loss shape : {loss.shape}\\n\")\n",
        "\n",
        "        return loss\n",
        "\n",
        "    def configure_optimizers(self):\n",
        "        \"\"\"\n",
        "\n",
        "        :return:\n",
        "        \"\"\"\n",
        "        optimizer = AdamW(self.parameters(), lr=self.config_dict['LR'])\n",
        "        scheduler = get_linear_schedule_with_warmup(optimizer, num_warmup_steps=self.n_warmup_steps,\n",
        "                                                    num_training_steps=self.n_training_steps)\n",
        "        return dict(optimizer=optimizer, lr_scheduler=dict(scheduler=scheduler, interval=\"step\"))"
      ],
      "metadata": {
        "id": "E9axfgge7tV3"
      },
      "execution_count": null,
      "outputs": []
    },
    {
      "cell_type": "markdown",
      "source": [
        "# calculate_warmup_stepsを定義する"
      ],
      "metadata": {
        "id": "jA2UW3Xf58Vh"
      }
    },
    {
      "cell_type": "code",
      "source": [
        "# -*- coding: utf-8 -*-\n",
        "# ========================================================\n",
        "\"\"\"This module is written for write useful function.\"\"\"\n",
        "# ========================================================\n",
        "\n",
        "\n",
        "# ========================================================\n",
        "# Imports\n",
        "# ========================================================\n",
        "\n",
        "import pandas as pd\n",
        "\n",
        "def calculate_warmup_steps(train_df: pd.DataFrame, num_epochs: int, batch_size: int):\n",
        "    steps_per_epoch = len(train_df) // batch_size\n",
        "    total_training_steps = steps_per_epoch * num_epochs\n",
        "    warmup_steps = total_training_steps // 5\n",
        "    return total_training_steps, warmup_steps"
      ],
      "metadata": {
        "id": "4ljK1VdE8BP5"
      },
      "execution_count": null,
      "outputs": []
    },
    {
      "cell_type": "markdown",
      "source": [
        "# ModelConfigを定義する\n",
        "- colab上では辞書\n",
        "- モジュール分けするときはjsonに"
      ],
      "metadata": {
        "id": "s8eAFYfq3-CD"
      }
    },
    {
      "cell_type": "markdown",
      "source": [
        "## GPT2"
      ],
      "metadata": {
        "id": "9dPiXl1ej7b3"
      }
    },
    {
      "cell_type": "code",
      "source": [
        "# GPT2-small\n",
        "gpt2_small_config = {\n",
        "    'MODEL_NAME' : 'gpt2',\n",
        "    'TOKENIZER_NAME' : 'gpt2',\n",
        "    'MAX_LENGTH' : 512,\n",
        "    'TRAINING_BATCH_SIZE' : 16,\n",
        "    'VALIDATION_BATCH_SIZE' : 16,\n",
        "    'TEST_BATCH_SIZE' : 1,\n",
        "    'TRAINING_EPOCHS' : 50,\n",
        "    'SAVE_TOP_K' : 1,\n",
        "    'SAVED_MODEL_PATH' : '/content/drive/MyDrive/B4yoshida/NILE with pytorch lightning/src/models',\n",
        "    'CSV_LOGGER_PATH' : '/content/drive/MyDrive/B4yoshida/NILE with pytorch lightning/weights/csv_log',\n",
        "    'TRAINING_DATA_PATH' : fine_toy_train_path_dict[\"true_set\"],\n",
        "    'VALIDATION_DATA_PATH' : fine_toy_val_path_dict[\"true_set\"],\n",
        "    'TEST_DATA_PATH' : fine_toy_test_path_dict[\"true_set\"],\n",
        "    'LR' : 7e-5,\n",
        "    'RANDOM_SEED' : 42,\n",
        "    'CROSS_ENTROPY_IGNORE_INDEX' : -100\n",
        "}\n",
        "\n",
        "# GPT2-medium\n",
        "gpt2_medium_config = {\n",
        "    'MODEL_NAME' : 'gpt2-medium',\n",
        "    'TOKENIZER_NAME' : 'gpt2-medium',\n",
        "    'MAX_LENGTH' : 512,\n",
        "    'TRAINING_BATCH_SIZE' : 16,\n",
        "    'VALIDATION_BATCH_SIZE' : 16,\n",
        "    'TEST_BATCH_SIZE' : 1,\n",
        "    'TRAINING_EPOCHS' : 50,\n",
        "    'SAVE_TOP_K' : 1,\n",
        "    'SAVED_MODEL_PATH' : '/content/drive/MyDrive/B4yoshida/NILE with pytorch lightning/src/models',\n",
        "    'CSV_LOGGER_PATH' : '/content/drive/MyDrive/B4yoshida/NILE with pytorch lightning/weights/csv_log',\n",
        "    'TRAINING_DATA_PATH' : fine_toy_train_path_dict[\"true_set\"],\n",
        "    'VALIDATION_DATA_PATH' : fine_toy_val_path_dict[\"true_set\"],\n",
        "    'TEST_DATA_PATH' : fine_toy_test_path_dict[\"true_set\"],\n",
        "    'LR' : 7e-5,\n",
        "    'RANDOM_SEED' : 42,\n",
        "    'CROSS_ENTROPY_IGNORE_INDEX' : -100\n",
        "}"
      ],
      "metadata": {
        "id": "kpgeqGQOkCpL"
      },
      "execution_count": null,
      "outputs": []
    },
    {
      "cell_type": "markdown",
      "source": [
        "## T5"
      ],
      "metadata": {
        "id": "sXnvK6fjj9uf"
      }
    },
    {
      "cell_type": "code",
      "source": [
        "# T5-small\n",
        "t5_small_config = {\n",
        "    'MODEL_NAME' : 't5-small',\n",
        "    'TOKENIZER_NAME' : 't5-small',\n",
        "    'MAX_LENGTH' : 512,\n",
        "    'TRAINING_BATCH_SIZE' : 16,\n",
        "    'VALIDATION_BATCH_SIZE' : 16,\n",
        "    'TEST_BATCH_SIZE' : 1,\n",
        "    'TRAINING_EPOCHS' : 50,\n",
        "    'SAVE_TOP_K' : 1,\n",
        "    'SAVED_MODEL_PATH' : '/content/drive/MyDrive/B4yoshida/NILE with pytorch lightning/src/models',\n",
        "    'CSV_LOGGER_PATH' : '/content/drive/MyDrive/B4yoshida/NILE with pytorch lightning/weights/csv_log',\n",
        "    'TRAINING_DATA_PATH' : fine_toy_train_path_dict[\"true_set\"],\n",
        "    'VALIDATION_DATA_PATH' : fine_toy_val_path_dict[\"true_set\"],\n",
        "    'TEST_DATA_PATH' : fine_toy_test_path_dict[\"true_set\"],\n",
        "    'LR' : 7e-5,\n",
        "    'RANDOM_SEED' : 42,\n",
        "    'CROSS_ENTROPY_IGNORE_INDEX' : -100\n",
        "}\n",
        "\n",
        "# T5-base\n",
        "t5_base_config = {\n",
        "    'MODEL_NAME' : 't5-base',\n",
        "    'TOKENIZER_NAME' : 't5-base',\n",
        "    'MAX_LENGTH' : 512,\n",
        "    'TRAINING_BATCH_SIZE' : 16,\n",
        "    'VALIDATION_BATCH_SIZE' : 16,\n",
        "    'TEST_BATCH_SIZE' : 1,\n",
        "    'TRAINING_EPOCHS' : 50,\n",
        "    'SAVE_TOP_K' : 1,\n",
        "    'SAVED_MODEL_PATH' : '/content/drive/MyDrive/B4yoshida/NILE with pytorch lightning/src/models',\n",
        "    'CSV_LOGGER_PATH' : '/content/drive/MyDrive/B4yoshida/NILE with pytorch lightning/weights/csv_log',\n",
        "    'TRAINING_DATA_PATH' : fine_toy_train_path_dict[\"true_set\"],\n",
        "    'VALIDATION_DATA_PATH' : fine_toy_val_path_dict[\"true_set\"],\n",
        "    'TEST_DATA_PATH' : fine_toy_test_path_dict[\"true_set\"],\n",
        "    'LR' : 7e-5,\n",
        "    'RANDOM_SEED' : 42,\n",
        "    'CROSS_ENTROPY_IGNORE_INDEX' : -100\n",
        "}"
      ],
      "metadata": {
        "id": "27MGdEADkWyL"
      },
      "execution_count": null,
      "outputs": []
    },
    {
      "cell_type": "markdown",
      "source": [
        "## BART"
      ],
      "metadata": {
        "id": "Fy9zBiRqkAC3"
      }
    },
    {
      "cell_type": "code",
      "source": [
        "# BART_base\n",
        "bart_base_config = {\n",
        "    'MODEL_NAME' : 'facebook/bart-base',\n",
        "    'TOKENIZER_NAME' : 'facebook/bart-base',\n",
        "    'MAX_LENGTH' : 512,\n",
        "    'TRAINING_BATCH_SIZE' : 16,\n",
        "    'VALIDATION_BATCH_SIZE' : 16,\n",
        "    'TEST_BATCH_SIZE' : 1,\n",
        "    'TRAINING_EPOCHS' : 50,\n",
        "    'SAVE_TOP_K' : 1,\n",
        "    'SAVED_MODEL_PATH' : '/content/drive/MyDrive/B4yoshida/NILE with pytorch lightning/src/models',\n",
        "    'CSV_LOGGER_PATH' : '/content/drive/MyDrive/B4yoshida/NILE with pytorch lightning/weights/csv_log',\n",
        "    'TRAINING_DATA_PATH' : fine_toy_train_path_dict[\"true_set\"],\n",
        "    'VALIDATION_DATA_PATH' : fine_toy_val_path_dict[\"true_set\"],\n",
        "    'TEST_DATA_PATH' : fine_toy_test_path_dict[\"true_set\"],\n",
        "    'LR' : 7e-5,\n",
        "    'RANDOM_SEED' : 42,\n",
        "    'CROSS_ENTROPY_IGNORE_INDEX' : -100\n",
        "}"
      ],
      "metadata": {
        "id": "5d4CXx8T4BWp"
      },
      "execution_count": null,
      "outputs": []
    },
    {
      "cell_type": "markdown",
      "source": [
        "# class Prepare_tokenizerを定義する"
      ],
      "metadata": {
        "id": "Shph_NDW3HpB"
      }
    },
    {
      "cell_type": "code",
      "source": [
        "from transformers import AutoTokenizer\n",
        "import warnings\n",
        "\n",
        "class Prepare_Tokenizer():\n",
        "    def __init__(self, config:dict):\n",
        "        self.config = config\n",
        "        self.TOKENIZER_NAME = self.config['TOKENIZER_NAME']\n",
        "        self.tokenizer = None\n",
        "        self.tokenizer_length = None\n",
        "        self.additional_special_tokens = None\n",
        "        self.eos_token = None\n",
        "        self.eos_token_id = None\n",
        "        self.pad_token = None\n",
        "        self.pad_token_id = None\n",
        "        self.exp_token = '[EXP]'\n",
        "        self.exp_token_id = None\n",
        "        self.initialization_flag = 0\n",
        "\n",
        "    def get_tokenizer(self):\n",
        "        if self.initialization_flag != 0:\n",
        "            raise ValueError(f\"tokenizer is already initialized. This instance is for {self.tokenizer}\")\n",
        "\n",
        "        if self.TOKENIZER_NAME in ['gpt2', 'gpt2-medium']:\n",
        "            self.initialization_flag = 1\n",
        "            self.tokenizer = AutoTokenizer.from_pretrained(self.TOKENIZER_NAME)\n",
        "            print(f\"tokenizer : AutoTokenizer.from_pretrained({self.TOKENIZER_NAME})\")\n",
        "            print(\"Before adding additional_special_tokens\")\n",
        "            print(self.tokenizer.all_special_tokens)\n",
        "            print(self.tokenizer.all_special_ids)\n",
        "            special_tokens_dict = {\n",
        "            'additional_special_tokens': ['[EXP]'],\n",
        "            \"eos_token\" : \"<|endoftext|>\",\n",
        "            \"pad_token\" : \"<|endoftext|>\"\n",
        "            }\n",
        "            self.eos_token = \"<|endoftext|>\"\n",
        "            self.pad_token = \"<|endoftext|>\"\n",
        "            self.tokenizer.add_special_tokens(special_tokens_dict)\n",
        "            self.exp_token_id = self.tokenizer.convert_tokens_to_ids('[EXP]')\n",
        "            self.eos_token_id = self.tokenizer.convert_tokens_to_ids('<|endoftext|>')\n",
        "            self.pad_token_id = self.tokenizer.convert_tokens_to_ids('<|endoftext|>')\n",
        "            print(\"After adding additional_special_tokens\")\n",
        "            print(self.tokenizer.all_special_tokens)\n",
        "            print(self.tokenizer.all_special_ids)\n",
        "            print(f\"exp_id : {self.exp_token_id}\")\n",
        "            print(f\"eos_id : {self.eos_token_id}\")\n",
        "            print(f\"pad_id : {self.pad_token_id}\")\n",
        "            self.tokenizer_length = len(self.tokenizer)\n",
        "            print(f\"len(tokenizer) : {self.tokenizer_length}\")\n",
        "\n",
        "            return self.tokenizer\n",
        "\n",
        "        elif self.TOKENIZER_NAME in ['t5-small','t5-base']:\n",
        "            self.initialization_flag = 1\n",
        "            self.tokenizer = AutoTokenizer.from_pretrained(self.TOKENIZER_NAME)\n",
        "            print(f\"tokenizer : AutoTokenizer.from_pretrained({self.TOKENIZER_NAME})\")\n",
        "            print(\"Before adding additional_special_tokens\")\n",
        "            print(self.tokenizer.all_special_tokens)\n",
        "            print(self.tokenizer.all_special_ids)\n",
        "            special_tokens_dict = {\n",
        "            'additional_special_tokens': ['[EXP]'],\n",
        "            }\n",
        "            self.eos_token = '</s>'\n",
        "            self.pad_token = '<pad>'\n",
        "            self.tokenizer.add_special_tokens(special_tokens_dict)\n",
        "            self.exp_token_id = self.tokenizer.convert_tokens_to_ids('[EXP]')\n",
        "            self.eos_token_id = self.tokenizer.convert_tokens_to_ids('</s>')\n",
        "            self.pad_token_id = self.tokenizer.convert_tokens_to_ids('<pad>')\n",
        "            print(\"After adding additional_special_tokens\")\n",
        "            print(self.tokenizer.all_special_tokens)\n",
        "            print(self.tokenizer.all_special_ids)\n",
        "            print(f\"exp_id : {self.exp_token_id}\")\n",
        "            print(f\"eos_id : {self.eos_token_id}\")\n",
        "            print(f\"pad_id : {self.pad_token_id}\")\n",
        "            self.tokenizer_length = len(self.tokenizer)\n",
        "            print(f\"len(tokenizer) : {self.tokenizer_length}\")\n",
        "\n",
        "            return self.tokenizer\n",
        "\n",
        "        elif self.TOKENIZER_NAME in ['facebook/bart-base']:\n",
        "            self.initialization_flag = 1\n",
        "            self.tokenizer = AutoTokenizer.from_pretrained(self.TOKENIZER_NAME)\n",
        "            print(f\"tokenizer : AutoTokenizer.from_pretrained({self.TOKENIZER_NAME})\")\n",
        "            print(\"Before adding additional_special_tokens\")\n",
        "            print(self.tokenizer.all_special_tokens)\n",
        "            print(self.tokenizer.all_special_ids)\n",
        "            special_tokens_dict = {\n",
        "            'additional_special_tokens': ['[EXP]'],\n",
        "            }\n",
        "            self.eos_token = '</s>'\n",
        "            self.pad_token = '<pad>'\n",
        "            self.tokenizer.add_special_tokens(special_tokens_dict)\n",
        "            self.exp_token_id = self.tokenizer.convert_tokens_to_ids('[EXP]')\n",
        "            self.eos_token_id = self.tokenizer.convert_tokens_to_ids('</s>')\n",
        "            self.pad_token_id = self.tokenizer.convert_tokens_to_ids('<pad>')\n",
        "            print(\"After adding additional_special_tokens\")\n",
        "            print(self.tokenizer.all_special_tokens)\n",
        "            print(self.tokenizer.all_special_ids)\n",
        "            print(f\"exp_id : {self.exp_token_id}\")\n",
        "            print(f\"eos_id : {self.eos_token_id}\")\n",
        "            print(f\"pad_id : {self.pad_token_id}\")\n",
        "            self.tokenizer_length = len(self.tokenizer)\n",
        "            print(f\"len(tokenizer) : {self.tokenizer_length}\")\n",
        "\n",
        "            return self.tokenizer\n",
        "        else:\n",
        "            raise ValueError('Wrong Tokenizer Type : you have to indicate tokenizer type out of the folloing list.\\n [\"gpt2\", \"gpt2-medium\", \"t5-small\", \"t5-base\", \"bart-base\"]\\n')\n",
        "\n",
        "    def get_tokenizer_info(self):\n",
        "        if self.initialization_flag == 0:\n",
        "            print(\"there is no information. you need to call get_tokenizer() first.\")\n",
        "        else:\n",
        "            print(\"---------- tokenizer information ----------\")\n",
        "            print(f\"self.TOKENIZER_NAME : {self.TOKENIZER_NAME}\")\n",
        "            print(f\"self.tokenizer : {self.tokenizer}\")\n",
        "            print(f\"self.tokenizer_length : {self.tokenizer_length}\")\n",
        "            print(f\"self.additional_special_tokens : {self.additional_special_tokens}\")\n",
        "            print(f\"self.eos_token : {self.eos_token}\")\n",
        "            print(f\"self.eos_token_id : {self.eos_token_id}\")\n",
        "            print(f\"self.pad_token : {self.pad_token}\")\n",
        "            print(f\"self.pad_token_id : {self.pad_token_id}\")\n",
        "            print(f\"self.exp_token : {self.exp_token}\")\n",
        "            print(f\"self.exp_token_id : {self.exp_token_id}\")\n"
      ],
      "metadata": {
        "id": "D0mJ9pIG3MHe"
      },
      "execution_count": null,
      "outputs": []
    },
    {
      "cell_type": "markdown",
      "source": [
        "# class Prepare_Modelを定義する\n",
        "- 今のところ、モデルごとに操作の大きな違いはなさそう\n",
        "- BARTに関して,文の頭に`<s>`が付く"
      ],
      "metadata": {
        "id": "rkBEZqVYGCj7"
      }
    },
    {
      "cell_type": "code",
      "source": [
        "from transformers import GPT2LMHeadModel, T5ForConditionalGeneration, BartForConditionalGeneration, AutoConfig\n",
        "import torch\n",
        "from torch import nn\n",
        "\n",
        "class Prepare_Model():\n",
        "\n",
        "    def __init__(self, config:dict, prepare_tokenizer):\n",
        "        self.MODEL_NAME = config['MODEL_NAME']\n",
        "        self.TOKENIZER_LENGTH = prepare_tokenizer.tokenizer_length\n",
        "        self.additional_model_config = None\n",
        "        self.prepare_tokenizer = prepare_tokenizer\n",
        "        self.model = None\n",
        "        self.initialization_flag = 0\n",
        "\n",
        "\n",
        "    def get_model(self):\n",
        "\n",
        "        if self.MODEL_NAME in ['gpt2', 'gpt2-medium']:\n",
        "\n",
        "            if self.prepare_tokenizer is None:\n",
        "                raise ValueError('prepare_tokenizer is None and this is not good for gpt2!')\n",
        "            self.initialization_flag = 1\n",
        "            self.additional_model_config = AutoConfig.from_pretrained(self.MODEL_NAME, eos_token_id=self.prepare_tokenizer.eos_token_id, pad_token_id=self.prepare_tokenizer.pad_token_id, additional_special_tokens_id = self.prepare_tokenizer.exp_token_id, output_hidden_states=False)\n",
        "            self.model = GPT2LMHeadModel.from_pretrained(self.MODEL_NAME, config=self.additional_model_config)\n",
        "            self.model.resize_token_embeddings(self.TOKENIZER_LENGTH)\n",
        "            self.lm_head = self.model.lm_head\n",
        "            new_weights = torch.cat([self.lm_head.weight[:-1, :], torch.zeros(1, self.lm_head.weight.shape[1]) -10000])\n",
        "            self.model.lm_head.weight = torch.nn.Parameter(new_weights)\n",
        "\n",
        "            return self.model\n",
        "\n",
        "        elif self.MODEL_NAME in ['t5-small','t5-base']:\n",
        "\n",
        "            self.initialization_flag = 1\n",
        "            self.model = T5ForConditionalGeneration.from_pretrained(self.MODEL_NAME)\n",
        "            self.model.resize_token_embeddings(self.TOKENIZER_LENGTH)\n",
        "            # not sure the following 2 lines are actually necessary\n",
        "            new_weights = torch.cat([self.model.lm_head.weight[:-1, :], torch.zeros(1, self.model.lm_head.weight.shape[1]) -10000])\n",
        "            self.model.lm_head.weight = torch.nn.Parameter(new_weights)\n",
        "            return self.model\n",
        "\n",
        "        elif self.MODEL_NAME in ['facebook/bart-base']:\n",
        "\n",
        "            self.initialization_flag = 1\n",
        "            self.model = BartForConditionalGeneration.from_pretrained(self.MODEL_NAME)\n",
        "            self.model.resize_token_embeddings(self.TOKENIZER_LENGTH)\n",
        "            # not sure the following 2 lines are actually necessary\n",
        "            new_weights = torch.cat([self.model.lm_head.weight[:-1, :], torch.zeros(1, self.model.lm_head.weight.shape[1]) -10000])\n",
        "            self.model.lm_head.weight = torch.nn.Parameter(new_weights)\n",
        "            return self.model\n",
        "        else:\n",
        "            raise ValueError('Wrong Model Type : you have to indicate model type out of the folloing list.\\n [\"gpt2\", \"gpt2-medium\", \"t5-small\", \"t5-base\", \"bart-base\"]\\n')\n",
        "\n",
        "\n",
        "    def get_model_info(self):\n",
        "        if self.initialization_flag == 0:\n",
        "            print(\"there is no information. you need to call get_model() first.\")\n",
        "        else:\n",
        "            print(\"---------- model information ----------\")\n",
        "            print(f\"self.MODEL_NAME : {self.MODEL_NAME}\")\n"
      ],
      "metadata": {
        "id": "HE6f_5MZGr0k"
      },
      "execution_count": null,
      "outputs": []
    },
    {
      "cell_type": "code",
      "source": [
        "# my_prepare_tokenizer = Prepare_Tokenizer(bart_base_config)\n",
        "# my_prepare_tokenizer.get_tokenizer_info()\n",
        "# my_tokenizer = my_prepare_tokenizer.get_tokenizer()\n",
        "# my_prepare_tokenizer.get_tokenizer_info()\n",
        "# my_prepare_model = Prepare_Model(config=bart_base_config, prepare_tokenizer=my_prepare_tokenizer)\n",
        "# my_prepare_model.get_model_info()\n",
        "# my_model = my_prepare_model.get_model()\n",
        "# my_prepare_model.get_model_info()"
      ],
      "metadata": {
        "id": "2WCJwC68PT4G"
      },
      "execution_count": null,
      "outputs": []
    },
    {
      "cell_type": "markdown",
      "source": [
        "# Trainerを定義する\n"
      ],
      "metadata": {
        "id": "t0v_Z78O729U"
      }
    },
    {
      "cell_type": "code",
      "source": [
        "import pytorch_lightning as pl\n",
        "import torch\n",
        "from pytorch_lightning.callbacks import EarlyStopping\n",
        "from pytorch_lightning.loggers import TensorBoardLogger\n",
        "from sklearn.model_selection import train_test_split\n",
        "from transformers import BertTokenizer\n",
        "\n",
        "random_seed = gpt2_small_config[\"RANDOM_SEED\"]\n",
        "pl.seed_everything(random_seed)\n",
        "\n",
        "print(\"train_data_path : \" + gpt2_small_config[\"TRAINING_DATA_PATH\"])\n",
        "print(\"test_data_path : \" + gpt2_small_config[\"TEST_DATA_PATH\"])\n",
        "print(\"val_data_path : \" + gpt2_small_config[\"VALIDATION_DATA_PATH\"])\n",
        "train_data = read_tsv(gpt2_small_config[\"TRAINING_DATA_PATH\"])\n",
        "test_data = read_tsv(gpt2_small_config[\"TEST_DATA_PATH\"])\n",
        "val_data = read_tsv(gpt2_small_config[\"VALIDATION_DATA_PATH\"])\n",
        "\n",
        "\n",
        "data_module =  LIAR_PLUS_DataModule_For_CEG(\n",
        "    gpt2_small_config,\n",
        "    train_data,\n",
        "    test_data,\n",
        "    val_data\n",
        "    )\n",
        "\n",
        "total_training_steps, warmup_steps = calculate_warmup_steps(train_data, gpt2_small_config[\"TRAINING_EPOCHS\"],\n",
        "                                                            gpt2_small_config[\"TRAINING_BATCH_SIZE\"])\n",
        "\n",
        "print(f\"total_training_steps : {total_training_steps} , warmup_steps : {warmup_steps} \")\n",
        "\n",
        "model = CEG(\n",
        "    config_dict=gpt2_small_config,\n",
        "    n_warmup_steps=warmup_steps,\n",
        "    n_training_steps=total_training_steps,\n",
        "    n_classes=2\n",
        "    )\n",
        "\n",
        "model\n",
        "checkpoint_callback = build_checkpoint_callback(gpt2_small_config)\n",
        "logger = TensorBoardLogger(\"lightning_logs\", name=\"CEG\")\n",
        "early_stopping_callback = EarlyStopping(monitor='val_loss', patience=10)\n",
        "\n",
        "trainer = pl.Trainer(\n",
        "    logger=logger,\n",
        "    callbacks=[checkpoint_callback, early_stopping_callback],\n",
        "    max_epochs=gpt2_small_config['TRAINING_EPOCHS'])"
      ],
      "metadata": {
        "id": "s6bUD-2e8ZaY"
      },
      "execution_count": null,
      "outputs": []
    },
    {
      "cell_type": "markdown",
      "source": [
        "# trainer.fit()"
      ],
      "metadata": {
        "id": "dOSy57F573Kk"
      }
    },
    {
      "cell_type": "code",
      "source": [
        "trainer.fit(model, datamodule=data_module)"
      ],
      "metadata": {
        "id": "HV1Tx7GO-u-c"
      },
      "execution_count": null,
      "outputs": []
    },
    {
      "cell_type": "markdown",
      "source": [
        "# trainer.test()"
      ],
      "metadata": {
        "id": "N6Np19lF73OV"
      }
    },
    {
      "cell_type": "code",
      "source": [
        "trainer.test(datamodule=data_module)"
      ],
      "metadata": {
        "id": "-DxYnT8B-25b"
      },
      "execution_count": null,
      "outputs": []
    },
    {
      "cell_type": "markdown",
      "source": [
        "# 結果を確認する"
      ],
      "metadata": {
        "id": "v1HyKsIv73SD"
      }
    },
    {
      "cell_type": "code",
      "source": [
        "%reload_ext tensorboard\n",
        "%tensorboard --logdir=lightning_logs/"
      ],
      "metadata": {
        "id": "xRHqmgR0F59h"
      },
      "execution_count": null,
      "outputs": []
    },
    {
      "cell_type": "markdown",
      "source": [
        "# GPT2"
      ],
      "metadata": {
        "id": "lIcmjm_ShvOG"
      }
    },
    {
      "cell_type": "markdown",
      "source": [
        "## 推論"
      ],
      "metadata": {
        "id": "ebbsKHDktRwJ"
      }
    },
    {
      "cell_type": "code",
      "source": [
        "## modelのロード\n",
        "my_model = CEG.load_from_checkpoint(gpt2_small_config['SAVED_MODEL_PATH']+'/QTag-epoch=20-val_loss=7.58.ckpt')\n",
        "my_model.model.save_pretrained('./model_transformers/gpt2_small')\n",
        "my_model = GPT2LMHeadModel.from_pretrained('./model_tranformers/gpt2_small')"
      ],
      "metadata": {
        "id": "q9VQsfvyI7Gw"
      },
      "execution_count": null,
      "outputs": []
    },
    {
      "cell_type": "code",
      "source": [
        "## tokenzierの準備\n",
        "my_prepare_tokenizer = Prepare_Tokenizer(gpt2_small_config)\n",
        "my_prepare_tokenizer.get_tokenizer_info()\n",
        "my_tokenizer = my_prepare_tokenizer.get_tokenizer()\n",
        "my_prepare_tokenizer.get_tokenizer_info()\n",
        "\n",
        "# データの準備\n",
        "inputs = my_tokenizer([\"Statement: Building a wall on the U.S.-Mexico border will take literally years. Metadata: immigration rick-perry Governor Texas republican Radio interview[EXP]\"], return_tensors=\"pt\")\n",
        "input_length = len(inputs[\"input_ids\"][0])\n",
        "print(f\"inputs_len : {input_length}\")\n",
        "\n",
        "outputs = my_model.generate(\n",
        "    **inputs,\n",
        "    max_new_tokens=5,\n",
        "    num_beams=4,\n",
        "    num_return_sequences=1,\n",
        "    return_dict_in_generate=True,\n",
        "    output_scores=True,\n",
        ")\n",
        "print(f\"outputs.sequences : {outputs.sequences}\")\n",
        "generated_tokens = outputs.sequences[:, input_length:]\n",
        "print(f\"generated_tokens : {generated_tokens}\")\n",
        "\n",
        "tokens_list = outputs.sequences[0]\n",
        "print(tokens_list)\n",
        "full_text = my_tokenizer.decode(tokens_list)\n",
        "generated = my_tokenizer.decode(generated_tokens[0])\n",
        "\n",
        "print(f\"full text : {full_text}\\n\")\n",
        "print(f\"generated text: {generated}\\n\")\n",
        "print(f\"len(generated) : {len(my_tokenizer.tokenize(generated))}\\n\")"
      ],
      "metadata": {
        "id": "z2_lpCRDuYqo"
      },
      "execution_count": null,
      "outputs": []
    },
    {
      "cell_type": "code",
      "source": [],
      "metadata": {
        "id": "9On7S6T12TbR"
      },
      "execution_count": null,
      "outputs": []
    },
    {
      "cell_type": "code",
      "source": [
        "from transformers import GPT2Tokenizer, AutoConfig, GPT2LMHeadModel\n",
        "\n",
        "tokenizer = GPT2Tokenizer.from_pretrained(\"gpt2\")\n",
        "model = GPT2LMHeadModel.from_pretrained(\"gpt2\")\n",
        "\n",
        "# tokenizer.pad_token_id = tokenizer.eos_token_id\n",
        "inputs = tokenizer([\"Today is\"], return_tensors=\"pt\")\n",
        "input_length = len(inputs[\"input_ids\"][0])\n",
        "print(f\"inputs_len : {input_length}\")\n",
        "\n",
        "# greedy_search\n",
        "# outputs = model.generate(**inputs, max_new_tokens=15, return_dict_in_generate=True, output_scores=True)\n",
        "# beam_search\n",
        "outputs = model.generate(\n",
        "    **inputs,\n",
        "    max_new_tokens=5,\n",
        "    num_beams=4,\n",
        "    num_return_sequences=1,\n",
        "    return_dict_in_generate=True,\n",
        "    output_scores=True,\n",
        ")\n",
        "print(f\"outputs.sequences : {outputs.sequences}\")\n",
        "generated_tokens = outputs.sequences[:, input_length:]\n",
        "print(f\"generated_tokens : {generated_tokens}\")\n",
        "\n",
        "tokens_list = outputs.sequences[0]\n",
        "print(tokens_list)\n",
        "full_text = tokenizer.decode(tokens_list)\n",
        "generated = tokenizer.decode(generated_tokens[0])\n",
        "\n",
        "print(f\"full text : {full_text}\\n\")\n",
        "print(f\"generated text: {generated}\\n\")\n",
        "print(f\"len(generated) : {len(tokenizer.tokenize(generated))}\\n\")"
      ],
      "metadata": {
        "id": "Bai7yul1huXr"
      },
      "execution_count": null,
      "outputs": []
    },
    {
      "cell_type": "markdown",
      "source": [
        "# T5デモ\n",
        "- `<extra_id_0>`や`</s>`が出力に含まれてしまっている\n",
        "- lm_head.weightsを初期化してもあまり効果が無い\n",
        "- https://github.com/huggingface/transformers/blob/main/src/transformers/models/t5/modeling_t5.py\n",
        "- https://www.kaggle.com/code/kreeshrajani/fine-tune-t5-for-conversational-model\n",
        "- https://huggingface.co/docs/transformers/model_doc/t5#transformers.T5Tokenizer.sp_model_kwargs"
      ],
      "metadata": {
        "id": "wRkLjp0h73VM"
      }
    },
    {
      "cell_type": "markdown",
      "source": [
        "## 公式サイトより"
      ],
      "metadata": {
        "id": "2CSsvMsOyROy"
      }
    },
    {
      "cell_type": "code",
      "source": [
        "from transformers import AutoTokenizer, T5ForConditionalGeneration\n",
        "\n",
        "tokenizer = AutoTokenizer.from_pretrained(\"t5-small\")\n",
        "model = T5ForConditionalGeneration.from_pretrained(\"t5-small\")\n",
        "\n",
        "# training\n",
        "input_ids = tokenizer(\"The <extra_id_0> walks in <extra_id_1> park\", return_tensors=\"pt\").input_ids\n",
        "labels = tokenizer(\"<extra_id_0> cute dog <extra_id_1> the <extra_id_2>\", return_tensors=\"pt\").input_ids\n",
        "outputs = model(input_ids=input_ids, labels=labels)\n",
        "loss = outputs.loss\n",
        "logits = outputs.logits\n",
        "\n",
        "# inference\n",
        "input_ids = tokenizer(\n",
        "    \"summarize: studies have shown that owning a dog is good for you\", return_tensors=\"pt\"\n",
        ").input_ids  # Batch size 1\n",
        "outputs = model.generate(input_ids)\n",
        "print(tokenizer.decode(outputs[0], skip_special_tokens=True))\n",
        "# studies have shown that owning a dog is good for you."
      ],
      "metadata": {
        "id": "9WZvyBATyUEI"
      },
      "execution_count": null,
      "outputs": []
    },
    {
      "cell_type": "markdown",
      "source": [
        "## fine-tuning"
      ],
      "metadata": {
        "id": "Ncxz-bFVuQmS"
      }
    },
    {
      "cell_type": "code",
      "execution_count": null,
      "metadata": {
        "id": "F2IFfkHWg5jg"
      },
      "outputs": [],
      "source": [
        "from transformers import AutoConfig, AutoTokenizer, T5ForConditionalGeneration\n",
        "import torch\n",
        "from torch import nn\n",
        "\n",
        "tokenizer = AutoTokenizer.from_pretrained(\"t5-small\")\n",
        "\n",
        "\n",
        "\n",
        "print(\"Before\")\n",
        "print(tokenizer.all_special_tokens)\n",
        "print(tokenizer.all_special_ids)\n",
        "special_tokens_dict = {\n",
        "    'additional_special_tokens': ['[EXP]']\n",
        "    }\n",
        "\n",
        "tokenizer.add_special_tokens(special_tokens_dict)\n",
        "exp_id = tokenizer.convert_tokens_to_ids('[EXP]')\n",
        "eos_id = tokenizer.convert_tokens_to_ids('</s>')\n",
        "pad_id = tokenizer.convert_tokens_to_ids('<pad>')\n",
        "print(\"After\")\n",
        "print(tokenizer.all_special_tokens)\n",
        "print(tokenizer.all_special_ids)\n",
        "print(f\"exp_id : {exp_id}\")\n",
        "print(f\"eos_id : {eos_id}\")\n",
        "print(f\"pad_id : {pad_id}\\n\")\n",
        "print(f\"len(tokenizer) : {len(tokenizer)}\")\n",
        "\n",
        "model = T5ForConditionalGeneration.from_pretrained(\"t5-small\")\n",
        "print(f\"before : {model.lm_head.weight.shape}\")\n",
        "print(f\"before resizing : {model.lm_head.weight}\")\n",
        "\n",
        "model.resize_token_embeddings(len(tokenizer))\n",
        "\n",
        "print(\"after : \", model.lm_head.weight.shape)\n",
        "print(f\"after resizing : {model.lm_head.weight.shape}\")\n",
        "print(f\"before changing weights : {model.lm_head.weight.shape}\")\n",
        "print(f\"focus : {model.lm_head.weight[:-1, :]}\")\n",
        "print(f\"focus.shape : {model.lm_head.weight[:-1, :].shape}\")\n",
        "new_weights = torch.cat([model.lm_head.weight[:-1, :], torch.zeros(1, model.lm_head.weight.shape[1]) -10000])\n",
        "model.lm_head.weight = torch.nn.Parameter(new_weights)\n",
        "print(f\"after changing weights : {model.lm_head.weight}\")\n",
        "print(f\"new_weights.shape : {model.lm_head.weight.shape}\")\n",
        "\n"
      ]
    },
    {
      "cell_type": "code",
      "execution_count": null,
      "metadata": {
        "id": "4eFQyzQEhVTT"
      },
      "outputs": [],
      "source": [
        "input_text = 'Statement: When did the decline of coal start? It started when natural gas took off that started to begin in (President George W.) Bushs administration. Metadata: energy,history,job-accomplishments scott-surovell State delegate Virginia democrat a floor speech.'+ tokenizer.convert_ids_to_tokens(exp_id)\n",
        "justification_text = 'Surovell said the decline of coal \"started when natural gas took off  That started to begin in President (George W. ) Bushs administration. \"No doubt, natural gas has been gaining ground on coal in generating electricity. The trend started in the 1990s but clearly gained speed during the Bush administration when the production of natural gas -- a competitor of coal -- picked up. But analysts give little credit or blame to Bush for that trend. They note that other factors, such as technological innovation, entrepreneurship and policies of previous administrations, had more to do with laying the groundwork for the natural gas boom.'\n",
        "label_text = input_text  + justification_text + tokenizer.convert_ids_to_tokens(eos_id)\n",
        "print(f\"tokenized input_text : {tokenizer.tokenize(input_text)}\\n\")\n",
        "print(f\"tokenized label_text : {tokenizer.tokenize(label_text)}\")\n",
        "input_text_length = len(tokenizer.tokenize(input_text))\n",
        "justification_text_length = len(tokenizer.tokenize(justification_text))\n",
        "label_text_length = len(tokenizer.tokenize(label_text))\n",
        "print(f\"input_text_length : {input_text_length}\")\n",
        "\n",
        "input_encoding = tokenizer.encode_plus(\n",
        "    input_text,\n",
        "    add_special_tokens=True,\n",
        "    max_length=label_text_length,\n",
        "    padding=\"max_length\",\n",
        "    truncation=True,\n",
        "    return_attention_mask=True,\n",
        "    return_tensors='pt',\n",
        ")\n",
        "\n",
        "print(f\"input_encoding : {input_encoding}\\n\")\n",
        "decoded_input_encoding = tokenizer.decode(input_encoding[\"input_ids\"][0])\n",
        "# print(f\"decoded input_encoding : {decoded_input_encoding}\\n\")\n",
        "\n",
        "label_encoding = tokenizer.encode_plus(\n",
        "    label_text,\n",
        "    add_special_tokens=True,\n",
        "    max_length=label_text_length,\n",
        "    return_token_type_ids=False,\n",
        "    padding=\"max_length\",\n",
        "    truncation=True,\n",
        "    return_attention_mask=True,\n",
        "    return_tensors='pt',\n",
        ")\n",
        "\n",
        "print(f\"label_encoding : {label_encoding}\")\n",
        "# print(f\"label_encoding['input_ids'][0] : {label_encoding['input_ids'][0]}\")\n",
        "decoded_label_encoding = tokenizer.decode(label_encoding[\"input_ids\"][0])\n",
        "# print(f\"decoded label_encoding : {decoded_label_encoding}\")\n",
        "print(f\"input prompt : {decoded_input_encoding}\")\n",
        "print(f\"label : {decoded_label_encoding}\")\n",
        "\n",
        "labels = label_encoding[\"input_ids\"]\n",
        "print(f\"labels before -100 masking : {labels}\")\n",
        "# decoded_labels = tokenizer.decode(labels)\n",
        "# print(f\"decoded labels : {decoded_labels}\")\n",
        "labels[:, :input_text_length] = -100 # cross_entropy_ignore_index\n",
        "labels[:, label_text_length:] = -100\n",
        "print(f\"labels after -100 masking : {labels}\")\n",
        "print(f\"labels.shape : {labels.shape}\")"
      ]
    },
    {
      "cell_type": "code",
      "execution_count": null,
      "metadata": {
        "id": "QYIrs850a-UJ"
      },
      "outputs": [],
      "source": [
        "outputs = model(input_ids=input_encoding[\"input_ids\"], attention_mask=input_encoding[\"attention_mask\"], labels=labels)\n",
        "\n",
        "print(f\"model : {model}\")\n",
        "print(f\"type(model) : {type(model)}\")\n",
        "print(f\"type(outputs) : {type(outputs)}\")\n",
        "\n",
        "logits = outputs.logits\n",
        "loss = outputs.loss\n",
        "print(f\"logits : {logits}\")\n",
        "print(f\"logtis.size() : {logits.size()}\")\n",
        "print(f\"loss : {loss}\")\n",
        "\n",
        "m = nn.Softmax(dim=1)\n",
        "output = m(logits)\n",
        "print(f\"output : {output}\")\n",
        "print(f\"output.size() : {output.size()}\")\n",
        "arg = torch.argmax(output, dim=2)\n",
        "print(f\"argmax(ouput) : {arg}\") # --> tensor\n",
        "print(f\"argmax(ouput).size() : {arg.size()}\")\n",
        "print(f\"argmax(output).dtype() : {arg.dtype}\")\n",
        "print(arg)\n",
        "generated = tokenizer.decode(arg[0])\n",
        "print(f\"generated : {generated}\")\n",
        "print(f\"len(generated) : {len(tokenizer.tokenize(generated))}\")\n",
        "\n"
      ]
    },
    {
      "cell_type": "markdown",
      "source": [
        "## 推論"
      ],
      "metadata": {
        "id": "DNWyFtg7uWzL"
      }
    },
    {
      "cell_type": "code",
      "source": [
        "from transformers import AutoConfig, AutoTokenizer, T5ForConditionalGeneration\n",
        "import torch\n",
        "from torch import nn\n",
        "\n",
        "tokenizer = AutoTokenizer.from_pretrained(\"t5-small\")\n",
        "\n",
        "tokenizer.pad_token_id = tokenizer.eos_token_id\n",
        "inputs = tokenizer([\"summarize: Today is\"], return_tensors=\"pt\")\n",
        "input_length = len(inputs[\"input_ids\"][0])\n",
        "print(f\"inputs_len : {input_length}\")\n",
        "\n",
        "# greedy_search\n",
        "outputs = model.generate(**inputs, max_new_tokens=15, return_dict_in_generate=True, output_scores=True)\n",
        "# beam_search\n",
        "# outputs = model.generate(\n",
        "#     **inputs,\n",
        "#     max_new_tokens=5,\n",
        "#     num_beams=4,\n",
        "#     num_return_sequences=1,\n",
        "#     return_dict_in_generate=True,\n",
        "#     output_scores=True,\n",
        "# )\n",
        "print(f\"outputs.sequences : {outputs.sequences}\")\n",
        "generated_tokens = outputs.sequences[:, input_length:]\n",
        "print(f\"generated_tokens : {generated_tokens}\")\n",
        "\n",
        "tokens_list = outputs.sequences[0]\n",
        "print(tokens_list)\n",
        "full_text = tokenizer.decode(tokens_list)\n",
        "generated = tokenizer.decode(generated_tokens[0], skip_special_tokens=True)\n",
        "\n",
        "print(f\"full text : {full_text}\\n\")\n",
        "print(f\"generated text: {generated}\\n\")\n",
        "print(f\"len(generated) : {len(tokenizer.tokenize(generated))}\\n\")"
      ],
      "metadata": {
        "id": "k20XUiAPuPB9"
      },
      "execution_count": null,
      "outputs": []
    },
    {
      "cell_type": "markdown",
      "metadata": {
        "id": "eoDbJrtWKA8k"
      },
      "source": [
        "# BART\n",
        "- add_special_token=Trueにしたとき、先頭に`<s>`が追加されるため-100のマスキング時にinput_length+1"
      ]
    },
    {
      "cell_type": "code",
      "execution_count": null,
      "metadata": {
        "id": "1H9d_ni0KDdO"
      },
      "outputs": [],
      "source": [
        "from transformers import AutoConfig, AutoTokenizer, BartForConditionalGeneration\n",
        "import torch\n",
        "from torch import nn\n",
        "\n",
        "tokenizer = AutoTokenizer.from_pretrained(\"facebook/bart-base\")\n",
        "\n",
        "print(\"Before\")\n",
        "print(tokenizer.all_special_tokens)\n",
        "print(tokenizer.all_special_ids)\n",
        "special_tokens_dict = {\n",
        "    'additional_special_tokens': ['[EXP]']\n",
        "    }\n",
        "\n",
        "tokenizer.add_special_tokens(special_tokens_dict)\n",
        "exp_id = tokenizer.convert_tokens_to_ids('[EXP]')\n",
        "eos_id = tokenizer.convert_tokens_to_ids('</s>')\n",
        "pad_id = tokenizer.convert_tokens_to_ids('<pad>')\n",
        "print(\"After\")\n",
        "print(tokenizer.all_special_tokens)\n",
        "print(tokenizer.all_special_ids)\n",
        "print(f\"exp_id : {exp_id}\")\n",
        "print(f\"eos_id : {eos_id}\")\n",
        "print(f\"pad_id : {pad_id}\\n\")\n",
        "print(f\"len(tokenizer) : {len(tokenizer)}\")\n",
        "\n",
        "model = BartForConditionalGeneration.from_pretrained(\"facebook/bart-base\")\n",
        "# print(f\"before : {model.lm_head.weight.shape}\")\n",
        "# print(f\"before resizing : {model.lm_head.weight}\")\n",
        "\n",
        "model.resize_token_embeddings(len(tokenizer))\n",
        "\n",
        "# print(\"after : \", model.lm_head.weight.shape)\n",
        "# print(f\"after resizing : {model.lm_head.weight.shape}\")\n",
        "# print(f\"before changing weights : {model.lm_head.weight.shape}\")\n",
        "# print(f\"focus : {model.lm_head.weight[:-1, :]}\")\n",
        "# print(f\"focus.shape : {model.lm_head.weight[:-1, :].shape}\")\n",
        "# new_weights = torch.cat([model.lm_head.weight[:-1, :], torch.zeros(1, model.lm_head.weight.shape[1]) -10000])\n",
        "# model.lm_head.weight = torch.nn.Parameter(new_weights)\n",
        "# print(f\"after changing weights : {model.lm_head.weight}\")\n",
        "# print(f\"new_weights.shape : {model.lm_head.weight.shape}\")\n",
        "\n"
      ]
    },
    {
      "cell_type": "code",
      "execution_count": null,
      "metadata": {
        "id": "qS-7CkYAKTI0"
      },
      "outputs": [],
      "source": [
        "input_text = 'Statement: When did the decline of coal start? It started when natural gas took off that started to begin in (President George W.) Bushs administration. Metadata: energy,history,job-accomplishments scott-surovell State delegate Virginia democrat a floor speech.'+ tokenizer.convert_ids_to_tokens(exp_id)\n",
        "justification_text = 'Surovell said the decline of coal \"started when natural gas took off  That started to begin in President (George W. ) Bushs administration. \"No doubt, natural gas has been gaining ground on coal in generating electricity. The trend started in the 1990s but clearly gained speed during the Bush administration when the production of natural gas -- a competitor of coal -- picked up. But analysts give little credit or blame to Bush for that trend. They note that other factors, such as technological innovation, entrepreneurship and policies of previous administrations, had more to do with laying the groundwork for the natural gas boom.'\n",
        "label_text = input_text  + justification_text + tokenizer.convert_ids_to_tokens(eos_id)\n",
        "print(f\"tokenized input_text : {tokenizer.tokenize(input_text)}\\n\")\n",
        "print(f\"tokenized label_text : {tokenizer.tokenize(label_text)}\")\n",
        "input_text_length = len(tokenizer.tokenize(input_text))\n",
        "justification_text_length = len(tokenizer.tokenize(justification_text))\n",
        "label_text_length = len(tokenizer.tokenize(label_text))\n",
        "print(f\"input_text_length : {input_text_length}\")\n",
        "\n",
        "input_encoding = tokenizer.encode_plus(\n",
        "    input_text,\n",
        "    add_special_tokens=True,\n",
        "    max_length=label_text_length,\n",
        "    padding=\"max_length\",\n",
        "    truncation=True,\n",
        "    return_attention_mask=True,\n",
        "    return_tensors='pt',\n",
        ")\n",
        "\n",
        "print(f\"input_encoding : {input_encoding}\\n\")\n",
        "decoded_input_encoding = tokenizer.decode(input_encoding[\"input_ids\"][0])\n",
        "# print(f\"decoded input_encoding : {decoded_input_encoding}\\n\")\n",
        "\n",
        "label_encoding = tokenizer.encode_plus(\n",
        "    label_text,\n",
        "    add_special_tokens=True,\n",
        "    max_length=label_text_length,\n",
        "    return_token_type_ids=False,\n",
        "    padding=\"max_length\",\n",
        "    truncation=True,\n",
        "    return_attention_mask=True,\n",
        "    return_tensors='pt',\n",
        ")\n",
        "\n",
        "print(f\"label_encoding : {label_encoding}\")\n",
        "# print(f\"label_encoding['input_ids'][0] : {label_encoding['input_ids'][0]}\")\n",
        "decoded_label_encoding = tokenizer.decode(label_encoding[\"input_ids\"][0])\n",
        "# print(f\"decoded label_encoding : {decoded_label_encoding}\")\n",
        "print(f\"input prompt : {decoded_input_encoding}\")\n",
        "print(f\"label : {decoded_label_encoding}\")\n",
        "\n",
        "labels = label_encoding[\"input_ids\"]\n",
        "print(f\"labels before -100 masking : {labels}\")\n",
        "# decoded_labels = tokenizer.decode(labels)\n",
        "# print(f\"decoded labels : {decoded_labels}\")\n",
        "labels[:, :input_text_length+1] = -100 # cross_entropy_ignore_index\n",
        "labels[:, label_text_length:] = -100\n",
        "print(f\"labels after -100 masking : {labels}\")\n",
        "print(f\"labels.shape : {labels.shape}\")"
      ]
    },
    {
      "cell_type": "code",
      "execution_count": null,
      "metadata": {
        "id": "Fy4pRgFbKYRU"
      },
      "outputs": [],
      "source": [
        "outputs = model(input_ids=input_encoding[\"input_ids\"], attention_mask=input_encoding[\"attention_mask\"], labels=labels)\n",
        "\n",
        "print(f\"model : {model}\")\n",
        "print(f\"type(model) : {type(model)}\")\n",
        "print(f\"type(outputs) : {type(outputs)}\")\n",
        "\n",
        "logits = outputs.logits\n",
        "loss = outputs.loss\n",
        "print(f\"logits : {logits}\")\n",
        "print(f\"logtis.size() : {logits.size()}\")\n",
        "print(f\"loss : {loss}\")\n",
        "\n",
        "m = nn.Softmax(dim=1)\n",
        "output = m(logits)\n",
        "print(f\"output : {output}\")\n",
        "print(f\"output.size() : {output.size()}\")\n",
        "arg = torch.argmax(output, dim=2)\n",
        "print(f\"argmax(ouput) : {arg}\") # --> tensor\n",
        "print(f\"argmax(ouput).size() : {arg.size()}\")\n",
        "print(f\"argmax(output).dtype() : {arg.dtype}\")\n",
        "print(arg)\n",
        "generated = tokenizer.decode(arg[0])\n",
        "print(f\"generated : {generated}\")\n",
        "print(f\"len(generated) : {len(tokenizer.tokenize(generated))}\")\n",
        "\n"
      ]
    },
    {
      "cell_type": "markdown",
      "source": [
        "## 推論"
      ],
      "metadata": {
        "id": "FZ_6sUIJtXs5"
      }
    },
    {
      "cell_type": "code",
      "source": [],
      "metadata": {
        "id": "eOaCTJIdtZ_R"
      },
      "execution_count": null,
      "outputs": []
    }
  ],
  "metadata": {
    "colab": {
      "machine_shape": "hm",
      "provenance": [],
      "toc_visible": true,
      "authorship_tag": "ABX9TyMHn4LGpvYu4aVMqQR3R0eQ",
      "include_colab_link": true
    },
    "kernelspec": {
      "display_name": "Python 3",
      "name": "python3"
    },
    "language_info": {
      "name": "python"
    }
  },
  "nbformat": 4,
  "nbformat_minor": 0
}